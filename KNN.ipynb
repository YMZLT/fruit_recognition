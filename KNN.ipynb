{
 "cells": [
  {
   "cell_type": "markdown",
   "metadata": {},
   "source": [
    "# K近邻分类器"
   ]
  },
  {
   "attachments": {
    "image-2.png": {
     "image/png": "[encoded data removed]"
    }
   },
   "cell_type": "markdown",
   "metadata": {},
   "source": [
    "\n",
    "- 工作机制：\n",
    "\n",
    "    - 给定一个测试样本\n",
    "\n",
    "    - 计算它到训练样本的距离\n",
    "\n",
    "    - 取离测试样本最近的k个训练样本\n",
    "\n",
    "    - “投票法”选出在这k个样本中出现最多的类别，就是预测的结果\n",
    "    \n",
    "\n",
    "- 距离衡量的标准\n",
    "\n",
    "    距离衡量的标准有很多，常见的有：Lp距离、切比雪夫距离、马氏距离、巴氏距离、余弦值等。这里用欧氏距离作为距离的衡量标准。\n",
    "    在欧几里得空间中，点 x = (x1,...,xn) 和 y = (y1,...,yn) 之间的欧氏距离为\n",
    "    ![image-2.png](attachment:image-2.png)\n",
    "\n"
   ]
  },
  {
   "cell_type": "markdown",
   "metadata": {},
   "source": [
    "- 优点\n",
    "\n",
    "    - 简单好用，容易理解，精度高，理论成熟，既可以用来做分类也可以用来做回归；\n",
    "    - 可用于数值型数据和离散型数据；\n",
    "    - 训练时间复杂度为O(n)；无数据输入假定；\n",
    "    - 对异常值不敏感。\n",
    "    \n",
    "    \n",
    "- 缺点\n",
    "\n",
    "    - 计算复杂性高；空间复杂性高；\n",
    "    \n",
    "    - 样本不平衡问题（即有些类别的样本数量很多，而其它样本的数量很少）；\n",
    "    \n",
    "    - 一般数值很大的时候不用这个，计算量太大。但是单个样本又不能太少，否则容易发生误分。\n",
    "    \n",
    "    - 最大的缺点是无法给出数据的内在含义。\n",
    "   \n",
    "补充一点：由于它属于懒惰学习，因此需要大量的空间来存储训练实例，在预测时它还需要与已知所有实例进行比较，增大了计算量。"
   ]
  },
  {
   "cell_type": "code",
   "execution_count": 1,
   "metadata": {},
   "outputs": [],
   "source": [
    "# 导入基本库\n",
    "import pandas as pd\n",
    "import numpy as np\n",
    "import math\n",
    "import matplotlib.pyplot as plt\n",
    "%matplotlib inline\n",
    "%config InlineBackend.figure_format = 'png'"
   ]
  },
  {
   "cell_type": "code",
   "execution_count": 18,
   "metadata": {},
   "outputs": [],
   "source": [
    "# K近邻实现\n",
    "class KNN():\n",
    "    def __init__(self):\n",
    "        # 存储距离矩阵\n",
    "        self.x_train = []\n",
    "        self.y_train = []\n",
    "\n",
    "    # 计算距离矩阵\n",
    "    def euclideanDistance(self, train_X, test_X):\n",
    "        train_X = np.array(train_X)\n",
    "        test_X = np.array(test_X)\n",
    "        \n",
    "        num_test = test_X.shape[0]\n",
    "        num_train = train_X.shape[0]\n",
    "        \n",
    "        sum_train = np.power(train_X, 2)\n",
    "        sum_train = sum_train.sum(axis=1)\n",
    "        sum_train = sum_train * np.ones((num_test, num_train))\n",
    "        \n",
    "        sum_test = np.power(test_X, 2)\n",
    "        sum_test = sum_test.sum(axis=1)\n",
    "        sum_test = sum_test * np.ones((1, sum_train.shape[0]))\n",
    "        \n",
    "        sum_test = sum_test.T\n",
    "        sum = sum_train + sum_test - 2 * np.dot(test_X, train_X.T)\n",
    "        dists = np.sqrt(sum)\n",
    "        return dists\n",
    "\n",
    "    def fit(self,x_train,y_train):\n",
    "        self.x_train = np.array(x_train)\n",
    "        self.y_train = np.array(y_train)\n",
    "        \n",
    "    def predict(self,x_test,k=1):\n",
    "        # 计算距离\n",
    "        dists = self.euclideanDistance(self.x_train,x_test)\n",
    "        \n",
    "        x_test = np.array(x_test)\n",
    "        \n",
    "        num_test = dists.shape[0]\n",
    "        y_pred = []\n",
    "        for i in range(num_test):\n",
    "            # 排序\n",
    "            index = np.argsort(dists[i])\n",
    "            # 找到前k个距离最近点\n",
    "            index = index[:k]\n",
    "            closest_y = self.y_train[index]\n",
    "            # 投票决定属于哪个类别\n",
    "            name, _ = Counter(closest_y).most_common(1)[0]\n",
    "            y_pred.append(name)\n",
    "        return y_pred"
   ]
  },
  {
   "cell_type": "markdown",
   "metadata": {},
   "source": [
    "# 数据预处理"
   ]
  },
  {
   "cell_type": "code",
   "execution_count": 5,
   "metadata": {},
   "outputs": [
    {
     "data": {
      "text/html": [
       "<div>\n",
       "<style scoped>\n",
       "    .dataframe tbody tr th:only-of-type {\n",
       "        vertical-align: middle;\n",
       "    }\n",
       "\n",
       "    .dataframe tbody tr th {\n",
       "        vertical-align: top;\n",
       "    }\n",
       "\n",
       "    .dataframe thead th {\n",
       "        text-align: right;\n",
       "    }\n",
       "</style>\n",
       "<table border=\"1\" class=\"dataframe\">\n",
       "  <thead>\n",
       "    <tr style=\"text-align: right;\">\n",
       "      <th></th>\n",
       "      <th>gender</th>\n",
       "      <th>height</th>\n",
       "      <th>weight</th>\n",
       "      <th>size</th>\n",
       "    </tr>\n",
       "    <tr>\n",
       "      <th></th>\n",
       "      <th></th>\n",
       "      <th></th>\n",
       "      <th></th>\n",
       "      <th></th>\n",
       "    </tr>\n",
       "  </thead>\n",
       "  <tbody>\n",
       "    <tr>\n",
       "      <th>1</th>\n",
       "      <td>女</td>\n",
       "      <td>163.0</td>\n",
       "      <td>62.0</td>\n",
       "      <td>36.0</td>\n",
       "    </tr>\n",
       "    <tr>\n",
       "      <th>2</th>\n",
       "      <td>女</td>\n",
       "      <td>158.0</td>\n",
       "      <td>42.0</td>\n",
       "      <td>36.0</td>\n",
       "    </tr>\n",
       "    <tr>\n",
       "      <th>3</th>\n",
       "      <td>男</td>\n",
       "      <td>168.0</td>\n",
       "      <td>67.0</td>\n",
       "      <td>42.0</td>\n",
       "    </tr>\n",
       "    <tr>\n",
       "      <th>4</th>\n",
       "      <td>男</td>\n",
       "      <td>180.0</td>\n",
       "      <td>67.0</td>\n",
       "      <td>41.0</td>\n",
       "    </tr>\n",
       "    <tr>\n",
       "      <th>5</th>\n",
       "      <td>男</td>\n",
       "      <td>180.0</td>\n",
       "      <td>75.0</td>\n",
       "      <td>46.0</td>\n",
       "    </tr>\n",
       "  </tbody>\n",
       "</table>\n",
       "</div>"
      ],
      "text/plain": [
       "  gender  height  weight  size\n",
       "                              \n",
       "1      女   163.0    62.0  36.0\n",
       "2      女   158.0    42.0  36.0\n",
       "3      男   168.0    67.0  42.0\n",
       "4      男   180.0    67.0  41.0\n",
       "5      男   180.0    75.0  46.0"
      ]
     },
     "execution_count": 5,
     "metadata": {},
     "output_type": "execute_result"
    }
   ],
   "source": [
    "colume_names = ['','gender','height','weight','size']\n",
    "df= pd.read_excel('data/gender.xlsx',index_col=0,names=colume_names)\n",
    "df.head(5)"
   ]
  },
  {
   "cell_type": "code",
   "execution_count": 6,
   "metadata": {},
   "outputs": [
    {
     "data": {
      "text/plain": [
       "(571, 4)"
      ]
     },
     "execution_count": 6,
     "metadata": {},
     "output_type": "execute_result"
    }
   ],
   "source": [
    "df.shape"
   ]
  },
  {
   "cell_type": "code",
   "execution_count": 7,
   "metadata": {},
   "outputs": [
    {
     "data": {
      "text/html": [
       "<div>\n",
       "<style scoped>\n",
       "    .dataframe tbody tr th:only-of-type {\n",
       "        vertical-align: middle;\n",
       "    }\n",
       "\n",
       "    .dataframe tbody tr th {\n",
       "        vertical-align: top;\n",
       "    }\n",
       "\n",
       "    .dataframe thead th {\n",
       "        text-align: right;\n",
       "    }\n",
       "</style>\n",
       "<table border=\"1\" class=\"dataframe\">\n",
       "  <thead>\n",
       "    <tr style=\"text-align: right;\">\n",
       "      <th></th>\n",
       "      <th>gender</th>\n",
       "      <th>height</th>\n",
       "      <th>weight</th>\n",
       "      <th>size</th>\n",
       "    </tr>\n",
       "    <tr>\n",
       "      <th></th>\n",
       "      <th></th>\n",
       "      <th></th>\n",
       "      <th></th>\n",
       "      <th></th>\n",
       "    </tr>\n",
       "  </thead>\n",
       "  <tbody>\n",
       "    <tr>\n",
       "      <th>1</th>\n",
       "      <td>2</td>\n",
       "      <td>163.0</td>\n",
       "      <td>62.0</td>\n",
       "      <td>36.0</td>\n",
       "    </tr>\n",
       "    <tr>\n",
       "      <th>2</th>\n",
       "      <td>2</td>\n",
       "      <td>158.0</td>\n",
       "      <td>42.0</td>\n",
       "      <td>36.0</td>\n",
       "    </tr>\n",
       "    <tr>\n",
       "      <th>3</th>\n",
       "      <td>1</td>\n",
       "      <td>168.0</td>\n",
       "      <td>67.0</td>\n",
       "      <td>42.0</td>\n",
       "    </tr>\n",
       "    <tr>\n",
       "      <th>4</th>\n",
       "      <td>1</td>\n",
       "      <td>180.0</td>\n",
       "      <td>67.0</td>\n",
       "      <td>41.0</td>\n",
       "    </tr>\n",
       "    <tr>\n",
       "      <th>5</th>\n",
       "      <td>1</td>\n",
       "      <td>180.0</td>\n",
       "      <td>75.0</td>\n",
       "      <td>46.0</td>\n",
       "    </tr>\n",
       "  </tbody>\n",
       "</table>\n",
       "</div>"
      ],
      "text/plain": [
       "   gender  height  weight  size\n",
       "                               \n",
       "1       2   163.0    62.0  36.0\n",
       "2       2   158.0    42.0  36.0\n",
       "3       1   168.0    67.0  42.0\n",
       "4       1   180.0    67.0  41.0\n",
       "5       1   180.0    75.0  46.0"
      ]
     },
     "execution_count": 7,
     "metadata": {},
     "output_type": "execute_result"
    }
   ],
   "source": [
    "# 性别数据转换\n",
    "df.replace('男',1,inplace=True)\n",
    "df.replace('女',2,inplace=True)\n",
    "df.head(5)"
   ]
  },
  {
   "cell_type": "code",
   "execution_count": 11,
   "metadata": {},
   "outputs": [
    {
     "data": {
      "text/html": [
       "<div>\n",
       "<style scoped>\n",
       "    .dataframe tbody tr th:only-of-type {\n",
       "        vertical-align: middle;\n",
       "    }\n",
       "\n",
       "    .dataframe tbody tr th {\n",
       "        vertical-align: top;\n",
       "    }\n",
       "\n",
       "    .dataframe thead th {\n",
       "        text-align: right;\n",
       "    }\n",
       "</style>\n",
       "<table border=\"1\" class=\"dataframe\">\n",
       "  <thead>\n",
       "    <tr style=\"text-align: right;\">\n",
       "      <th></th>\n",
       "      <th>feature1</th>\n",
       "      <th>feature2</th>\n",
       "      <th>feature3</th>\n",
       "      <th>category</th>\n",
       "    </tr>\n",
       "    <tr>\n",
       "      <th></th>\n",
       "      <th></th>\n",
       "      <th></th>\n",
       "      <th></th>\n",
       "      <th></th>\n",
       "    </tr>\n",
       "  </thead>\n",
       "  <tbody>\n",
       "    <tr>\n",
       "      <th>1</th>\n",
       "      <td>163.0</td>\n",
       "      <td>62.0</td>\n",
       "      <td>36.0</td>\n",
       "      <td>2</td>\n",
       "    </tr>\n",
       "    <tr>\n",
       "      <th>2</th>\n",
       "      <td>158.0</td>\n",
       "      <td>42.0</td>\n",
       "      <td>36.0</td>\n",
       "      <td>2</td>\n",
       "    </tr>\n",
       "    <tr>\n",
       "      <th>3</th>\n",
       "      <td>168.0</td>\n",
       "      <td>67.0</td>\n",
       "      <td>42.0</td>\n",
       "      <td>1</td>\n",
       "    </tr>\n",
       "    <tr>\n",
       "      <th>4</th>\n",
       "      <td>180.0</td>\n",
       "      <td>67.0</td>\n",
       "      <td>41.0</td>\n",
       "      <td>1</td>\n",
       "    </tr>\n",
       "    <tr>\n",
       "      <th>5</th>\n",
       "      <td>180.0</td>\n",
       "      <td>75.0</td>\n",
       "      <td>46.0</td>\n",
       "      <td>1</td>\n",
       "    </tr>\n",
       "  </tbody>\n",
       "</table>\n",
       "</div>"
      ],
      "text/plain": [
       "   feature1  feature2  feature3  category\n",
       "                                         \n",
       "1     163.0      62.0      36.0         2\n",
       "2     158.0      42.0      36.0         2\n",
       "3     168.0      67.0      42.0         1\n",
       "4     180.0      67.0      41.0         1\n",
       "5     180.0      75.0      46.0         1"
      ]
     },
     "execution_count": 11,
     "metadata": {},
     "output_type": "execute_result"
    }
   ],
   "source": [
    "# 数据提取\n",
    "data = df[['height','weight','size','gender']].copy()\n",
    "data.columns = ['feature1', 'feature2', 'feature3','category']\n",
    "data.head(5)"
   ]
  },
  {
   "cell_type": "code",
   "execution_count": 13,
   "metadata": {},
   "outputs": [],
   "source": [
    "X = data.iloc[:,0:3] # 特征\n",
    "Y = data.iloc[:,3] # 标签"
   ]
  },
  {
   "cell_type": "code",
   "execution_count": 14,
   "metadata": {},
   "outputs": [],
   "source": [
    "from sklearn.model_selection import KFold\n",
    "from sklearn.metrics import accuracy_score"
   ]
  },
  {
   "cell_type": "code",
   "execution_count": 34,
   "metadata": {},
   "outputs": [],
   "source": [
    "# 测试不同 k 的平均错误率情况\n",
    "def K_KNN_Test(k_knn):   \n",
    "    k = 10\n",
    "    kf = KFold(n_splits=k,shuffle=True)\n",
    "    accuracies = []\n",
    "    i = 0\n",
    "\n",
    "    for train_index, test_index in kf.split(data):  # 拆分\n",
    "\n",
    "        x_train, x_test = X.iloc[train_index], X.iloc[test_index]\n",
    "        y_train, y_test = Y.iloc[train_index], Y.iloc[test_index]\n",
    "\n",
    "        model = KNN()  # 模型原型 选择\n",
    "        model.fit(x_train, y_train)  # 训练\n",
    "        y_predict = model.predict(x_test,k_knn)  # 预测\n",
    "\n",
    "        accuracy = accuracy_score(y_pred=y_predict, y_true=y_test)\n",
    "        accuracies.append(accuracy)\n",
    "        i += 1\n",
    "\n",
    "    # 平均错误率\n",
    "    print('k = {0} KNN average error rate:{1}'.format(k_knn,np.mean(accuracies)))"
   ]
  },
  {
   "cell_type": "code",
   "execution_count": 42,
   "metadata": {
    "scrolled": true
   },
   "outputs": [
    {
     "name": "stdout",
     "output_type": "stream",
     "text": [
      "k = 1 KNN average error rate:0.9912280701754386\n",
      "k = 3 KNN average error rate:0.9562310949788264\n",
      "k = 5 KNN average error rate:0.9369630973986691\n",
      "k = 7 KNN average error rate:0.9315789473684211\n",
      "k = 9 KNN average error rate:0.9335148215366\n",
      "k = 11 KNN average error rate:0.936993345432547\n",
      "k = 13 KNN average error rate:0.935178463399879\n",
      "k = 15 KNN average error rate:0.9316696914700543\n",
      "k = 17 KNN average error rate:0.9264065335753177\n",
      "k = 19 KNN average error rate:0.9247126436781608\n",
      "k = 21 KNN average error rate:0.9264367816091955\n"
     ]
    }
   ],
   "source": [
    "for i in [1,3,5,7,9,11,13,15,17,19,21]:\n",
    "    K_KNN_Test(i)"
   ]
  },
  {
   "cell_type": "code",
   "execution_count": null,
   "metadata": {},
   "outputs": [],
   "source": []
  }
 ],
 "metadata": {
  "kernelspec": {
   "display_name": "Python 3",
   "language": "python",
   "name": "python3"
  },
  "language_info": {
   "codemirror_mode": {
    "name": "ipython",
    "version": 3
   },
   "file_extension": ".py",
   "mimetype": "text/x-python",
   "name": "python",
   "nbconvert_exporter": "python",
   "pygments_lexer": "ipython3",
   "version": "3.7.0"
  }
 },
 "nbformat": 4,
 "nbformat_minor": 4
}
