{
 "cells": [
  {
   "cell_type": "markdown",
   "metadata": {},
   "source": [
    "# 特征提取——基于特征值分解矩阵原理"
   ]
  },
  {
   "cell_type": "markdown",
   "metadata": {},
   "source": [
    "离散有限K-L展开（计算步骤）$y=W^T x$ \n",
    "\n",
    " 1. 计算产生矩阵R\n",
    " \n",
    " 2. 计算R的特征值并且由大到小排序为$\\lambda_1,\\lambda_2,......,\\lambda_d$\n",
    " \n",
    " 3. 计算这些特征值对应特征向量$\\varphi_1,\\varphi_2,......,\\varphi_d$\n",
    " \n",
    " 4. 变换矩阵 $W=[\\varphi_1,\\varphi_2,......,\\varphi_d]$\n",
    "\n",
    " - 样本的自相关矩阵 $R=E[XX^T]$\n",
    "\n",
    " - 样本的总体离差矩阵$S_T=\\frac{1}{N}\\sum_{i=1}^{N}(x_i-m)(x_i-m)^T$\n",
    "\n",
    " - 样本总类内散度矩阵$S_w=\\sum_{i=1}^cE[(x-m_i)(x-m_i)^T]$"
   ]
  },
  {
   "cell_type": "markdown",
   "metadata": {},
   "source": [
    "## 实验结果比较思路\n",
    "\n",
    "1. 自己实现的PCA与库函数得到的结果进行比较。\n",
    "\n",
    "2. 利用自己实现的PCA将数据从三维降到二维，再用贝叶斯分类器训练，与实验二比较。\n",
    "\n",
    "3. 利用自己实现的PCA将数据从三维降到一维，再用Fisher线性分类器训练，与实验三比较。"
   ]
  },
  {
   "cell_type": "code",
   "execution_count": 1,
   "metadata": {},
   "outputs": [],
   "source": [
    "# 导入基本库\n",
    "import pandas as pd\n",
    "import numpy as np\n",
    "import math\n",
    "import matplotlib.pyplot as plt\n",
    "%matplotlib inline\n",
    "%config InlineBackend.figure_format = 'png'"
   ]
  },
  {
   "cell_type": "markdown",
   "metadata": {},
   "source": [
    "## PCA实现"
   ]
  },
  {
   "cell_type": "code",
   "execution_count": 2,
   "metadata": {},
   "outputs": [],
   "source": [
    "def self_pca(X,k): # k is the components you want\n",
    "    \n",
    "    n_samples,n_features = X.shape\n",
    "    # mean of each feature\n",
    "    mean = np.array([np.mean(X[:,i]) for i in range(n_features)])\n",
    "    # normolization\n",
    "    norm_X = X-mean\n",
    "    # 自相关矩阵\n",
    "    scatter_matrix = np.dot(np.transpose(norm_X),norm_X)\n",
    "    # 计算特征值和对应的特征向量\n",
    "    eig_val,eig_vec = np.linalg.eig(scatter_matrix)\n",
    "    eig_pairs = dict(zip(eig_val,eig_vec))\n",
    "    # 特征值排序\n",
    "    eig_pairs = list(eig_pairs.items())\n",
    "    eig_pairs.sort(key=lambda x:x[0],reverse=True)\n",
    "    # 提取出特征向量\n",
    "    feature = np.array([ele[1] for ele in eig_pairs[:k]])\n",
    "    print(feature)\n",
    "    # get new data\n",
    "    data = np.dot(norm_X,np.transpose(feature))\n",
    "    return data"
   ]
  },
  {
   "cell_type": "code",
   "execution_count": 3,
   "metadata": {},
   "outputs": [
    {
     "name": "stdout",
     "output_type": "stream",
     "text": [
      "[[ 0.8549662  -0.51868371]]\n"
     ]
    },
    {
     "data": {
      "text/plain": [
       "array([[-1.20075534],\n",
       "       [-1.01835413],\n",
       "       [-1.35463662],\n",
       "       [ 0.50917706],\n",
       "       [ 1.36414327],\n",
       "       [ 1.70042576]])"
      ]
     },
     "execution_count": 3,
     "metadata": {},
     "output_type": "execute_result"
    }
   ],
   "source": [
    "X = np.array([[-1,1],[-2,-1],[-3,-2],[1,1],[2,1],[3,2]])\n",
    "self_pca(X,1)"
   ]
  },
  {
   "cell_type": "code",
   "execution_count": 4,
   "metadata": {
    "scrolled": true
   },
   "outputs": [
    {
     "data": {
      "text/plain": [
       "array([[ 0.50917706],\n",
       "       [ 2.40151069],\n",
       "       [ 3.7751606 ],\n",
       "       [-1.20075534],\n",
       "       [-2.05572155],\n",
       "       [-3.42937146]])"
      ]
     },
     "execution_count": 4,
     "metadata": {},
     "output_type": "execute_result"
    }
   ],
   "source": [
    "# from sklearn \n",
    "from sklearn.decomposition import PCA\n",
    "\n",
    "pca = PCA(n_components=1)\n",
    "pca.fit(X)\n",
    "pca.transform(X)"
   ]
  },
  {
   "cell_type": "markdown",
   "metadata": {},
   "source": [
    "## 数据预处理"
   ]
  },
  {
   "cell_type": "code",
   "execution_count": 5,
   "metadata": {},
   "outputs": [
    {
     "data": {
      "text/html": [
       "<div>\n",
       "<style scoped>\n",
       "    .dataframe tbody tr th:only-of-type {\n",
       "        vertical-align: middle;\n",
       "    }\n",
       "\n",
       "    .dataframe tbody tr th {\n",
       "        vertical-align: top;\n",
       "    }\n",
       "\n",
       "    .dataframe thead th {\n",
       "        text-align: right;\n",
       "    }\n",
       "</style>\n",
       "<table border=\"1\" class=\"dataframe\">\n",
       "  <thead>\n",
       "    <tr style=\"text-align: right;\">\n",
       "      <th></th>\n",
       "      <th>gender</th>\n",
       "      <th>height</th>\n",
       "      <th>weight</th>\n",
       "      <th>size</th>\n",
       "    </tr>\n",
       "    <tr>\n",
       "      <th></th>\n",
       "      <th></th>\n",
       "      <th></th>\n",
       "      <th></th>\n",
       "      <th></th>\n",
       "    </tr>\n",
       "  </thead>\n",
       "  <tbody>\n",
       "    <tr>\n",
       "      <th>1</th>\n",
       "      <td>女</td>\n",
       "      <td>163.0</td>\n",
       "      <td>62.0</td>\n",
       "      <td>36.0</td>\n",
       "    </tr>\n",
       "    <tr>\n",
       "      <th>2</th>\n",
       "      <td>女</td>\n",
       "      <td>158.0</td>\n",
       "      <td>42.0</td>\n",
       "      <td>36.0</td>\n",
       "    </tr>\n",
       "    <tr>\n",
       "      <th>3</th>\n",
       "      <td>男</td>\n",
       "      <td>168.0</td>\n",
       "      <td>67.0</td>\n",
       "      <td>42.0</td>\n",
       "    </tr>\n",
       "    <tr>\n",
       "      <th>4</th>\n",
       "      <td>男</td>\n",
       "      <td>180.0</td>\n",
       "      <td>67.0</td>\n",
       "      <td>41.0</td>\n",
       "    </tr>\n",
       "    <tr>\n",
       "      <th>5</th>\n",
       "      <td>男</td>\n",
       "      <td>180.0</td>\n",
       "      <td>75.0</td>\n",
       "      <td>46.0</td>\n",
       "    </tr>\n",
       "  </tbody>\n",
       "</table>\n",
       "</div>"
      ],
      "text/plain": [
       "  gender  height  weight  size\n",
       "                              \n",
       "1      女   163.0    62.0  36.0\n",
       "2      女   158.0    42.0  36.0\n",
       "3      男   168.0    67.0  42.0\n",
       "4      男   180.0    67.0  41.0\n",
       "5      男   180.0    75.0  46.0"
      ]
     },
     "execution_count": 5,
     "metadata": {},
     "output_type": "execute_result"
    }
   ],
   "source": [
    "colume_names = ['','gender','height','weight','size']\n",
    "df= pd.read_excel('data/gender.xlsx',index_col=0,names=colume_names)\n",
    "df.head(5)"
   ]
  },
  {
   "cell_type": "code",
   "execution_count": 6,
   "metadata": {},
   "outputs": [
    {
     "data": {
      "text/plain": [
       "(571, 4)"
      ]
     },
     "execution_count": 6,
     "metadata": {},
     "output_type": "execute_result"
    }
   ],
   "source": [
    "df.shape"
   ]
  },
  {
   "cell_type": "code",
   "execution_count": 7,
   "metadata": {},
   "outputs": [
    {
     "data": {
      "text/html": [
       "<div>\n",
       "<style scoped>\n",
       "    .dataframe tbody tr th:only-of-type {\n",
       "        vertical-align: middle;\n",
       "    }\n",
       "\n",
       "    .dataframe tbody tr th {\n",
       "        vertical-align: top;\n",
       "    }\n",
       "\n",
       "    .dataframe thead th {\n",
       "        text-align: right;\n",
       "    }\n",
       "</style>\n",
       "<table border=\"1\" class=\"dataframe\">\n",
       "  <thead>\n",
       "    <tr style=\"text-align: right;\">\n",
       "      <th></th>\n",
       "      <th>gender</th>\n",
       "      <th>height</th>\n",
       "      <th>weight</th>\n",
       "      <th>size</th>\n",
       "    </tr>\n",
       "    <tr>\n",
       "      <th></th>\n",
       "      <th></th>\n",
       "      <th></th>\n",
       "      <th></th>\n",
       "      <th></th>\n",
       "    </tr>\n",
       "  </thead>\n",
       "  <tbody>\n",
       "    <tr>\n",
       "      <th>1</th>\n",
       "      <td>2</td>\n",
       "      <td>163.0</td>\n",
       "      <td>62.0</td>\n",
       "      <td>36.0</td>\n",
       "    </tr>\n",
       "    <tr>\n",
       "      <th>2</th>\n",
       "      <td>2</td>\n",
       "      <td>158.0</td>\n",
       "      <td>42.0</td>\n",
       "      <td>36.0</td>\n",
       "    </tr>\n",
       "    <tr>\n",
       "      <th>3</th>\n",
       "      <td>1</td>\n",
       "      <td>168.0</td>\n",
       "      <td>67.0</td>\n",
       "      <td>42.0</td>\n",
       "    </tr>\n",
       "    <tr>\n",
       "      <th>4</th>\n",
       "      <td>1</td>\n",
       "      <td>180.0</td>\n",
       "      <td>67.0</td>\n",
       "      <td>41.0</td>\n",
       "    </tr>\n",
       "    <tr>\n",
       "      <th>5</th>\n",
       "      <td>1</td>\n",
       "      <td>180.0</td>\n",
       "      <td>75.0</td>\n",
       "      <td>46.0</td>\n",
       "    </tr>\n",
       "  </tbody>\n",
       "</table>\n",
       "</div>"
      ],
      "text/plain": [
       "   gender  height  weight  size\n",
       "                               \n",
       "1       2   163.0    62.0  36.0\n",
       "2       2   158.0    42.0  36.0\n",
       "3       1   168.0    67.0  42.0\n",
       "4       1   180.0    67.0  41.0\n",
       "5       1   180.0    75.0  46.0"
      ]
     },
     "execution_count": 7,
     "metadata": {},
     "output_type": "execute_result"
    }
   ],
   "source": [
    "# 性别数据转换\n",
    "df.replace('男',1,inplace=True)\n",
    "df.replace('女',2,inplace=True)\n",
    "df.head(5)"
   ]
  },
  {
   "cell_type": "markdown",
   "metadata": {},
   "source": [
    "## 1. 特征提取 ： 三维->二维"
   ]
  },
  {
   "cell_type": "code",
   "execution_count": 8,
   "metadata": {},
   "outputs": [
    {
     "name": "stdout",
     "output_type": "stream",
     "text": [
      "[[ 0.56989566  0.7941269  -0.21114309]\n",
      " [ 0.80296067 -0.59277629 -0.06221277]]\n"
     ]
    }
   ],
   "source": [
    "# 自己实现的PCA\n",
    "self_pca_res = self_pca(np.array(df[['height','weight','size']]),2)\n",
    "# PCA库函数\n",
    "pca = PCA(n_components=2)\n",
    "dataX = np.array(df[['height','weight','size']])\n",
    "pca.fit(dataX)\n",
    "pca_res = pca.transform(dataX)"
   ]
  },
  {
   "cell_type": "code",
   "execution_count": 9,
   "metadata": {},
   "outputs": [
    {
     "data": {
      "text/html": [
       "<div>\n",
       "<style scoped>\n",
       "    .dataframe tbody tr th:only-of-type {\n",
       "        vertical-align: middle;\n",
       "    }\n",
       "\n",
       "    .dataframe tbody tr th {\n",
       "        vertical-align: top;\n",
       "    }\n",
       "\n",
       "    .dataframe thead th {\n",
       "        text-align: right;\n",
       "    }\n",
       "</style>\n",
       "<table border=\"1\" class=\"dataframe\">\n",
       "  <thead>\n",
       "    <tr style=\"text-align: right;\">\n",
       "      <th></th>\n",
       "      <th>feature1</th>\n",
       "      <th>feature2</th>\n",
       "      <th>category</th>\n",
       "    </tr>\n",
       "  </thead>\n",
       "  <tbody>\n",
       "    <tr>\n",
       "      <th>1</th>\n",
       "      <td>-0.720249</td>\n",
       "      <td>7.333756</td>\n",
       "      <td>2</td>\n",
       "    </tr>\n",
       "    <tr>\n",
       "      <th>2</th>\n",
       "      <td>-19.628941</td>\n",
       "      <td>-0.551135</td>\n",
       "      <td>2</td>\n",
       "    </tr>\n",
       "    <tr>\n",
       "      <th>3</th>\n",
       "      <td>7.191425</td>\n",
       "      <td>5.522494</td>\n",
       "      <td>1</td>\n",
       "    </tr>\n",
       "    <tr>\n",
       "      <th>4</th>\n",
       "      <td>13.855607</td>\n",
       "      <td>-3.872944</td>\n",
       "      <td>1</td>\n",
       "    </tr>\n",
       "    <tr>\n",
       "      <th>5</th>\n",
       "      <td>21.152120</td>\n",
       "      <td>0.198842</td>\n",
       "      <td>1</td>\n",
       "    </tr>\n",
       "  </tbody>\n",
       "</table>\n",
       "</div>"
      ],
      "text/plain": [
       "    feature1  feature2  category\n",
       "1  -0.720249  7.333756         2\n",
       "2 -19.628941 -0.551135         2\n",
       "3   7.191425  5.522494         1\n",
       "4  13.855607 -3.872944         1\n",
       "5  21.152120  0.198842         1"
      ]
     },
     "execution_count": 9,
     "metadata": {},
     "output_type": "execute_result"
    }
   ],
   "source": [
    "# 数据合并 ： 加上类别\n",
    "self_data = pd.concat([pd.DataFrame(self_pca_res,index=list(range(1,572,1))), df['gender']], axis=1)\n",
    "self_data.columns = ['feature1', 'feature2', 'category']\n",
    "\n",
    "data = pd.concat([pd.DataFrame(pca_res,index=list(range(1,572,1))), df['gender']], axis=1)\n",
    "data.columns = ['feature1', 'feature2', 'category']\n",
    "data.head(5)"
   ]
  },
  {
   "cell_type": "code",
   "execution_count": 10,
   "metadata": {},
   "outputs": [
    {
     "data": {
      "image/png": "[encoded data removed]",
      "text/plain": [
       "<Figure size 800x600 with 1 Axes>"
      ]
     },
     "metadata": {
      "needs_background": "light"
     },
     "output_type": "display_data"
    }
   ],
   "source": [
    "cate1_df = self_data.loc[self_data['category']==1]\n",
    "cate2_df = self_data.loc[self_data['category']==2]\n",
    "# 二元高斯概率分布图水平面投影\n",
    "plt.figure(figsize=(8,6),dpi=100)\n",
    "plt.scatter(cate1_df.feature1, cate1_df.feature2)\n",
    "plt.scatter(cate2_df.feature1, cate2_df.feature2,color='#ff6b6b')\n",
    "plt.xlabel('Feature1',fontsize=12)\n",
    "plt.ylabel('Feature2',fontsize=12) \n",
    "plt.title('Distribution',fontsize=12)\n",
    "plt.legend([\"mele\",\"female\"])\n",
    "plt.xticks(size = 12)\n",
    "plt.yticks(size = 12)\n",
    "plt.show()"
   ]
  },
  {
   "cell_type": "code",
   "execution_count": 11,
   "metadata": {},
   "outputs": [
    {
     "data": {
      "image/png": "[encoded data removed]",
      "text/plain": [
       "<Figure size 800x600 with 1 Axes>"
      ]
     },
     "metadata": {
      "needs_background": "light"
     },
     "output_type": "display_data"
    }
   ],
   "source": [
    "cate1_df = data.loc[data['category']==1]\n",
    "cate2_df = data.loc[data['category']==2]\n",
    "# 二元高斯概率分布图水平面投影\n",
    "plt.figure(figsize=(8,6),dpi=100)\n",
    "plt.scatter(cate1_df.feature1, cate1_df.feature2)\n",
    "plt.scatter(cate2_df.feature1, cate2_df.feature2,color='#ff6b6b')\n",
    "plt.xlabel('Feature1',fontsize=12)\n",
    "plt.ylabel('Feature2',fontsize=12) \n",
    "plt.title('Distribution',fontsize=12)\n",
    "plt.legend([\"mele\",\"female\"])\n",
    "plt.xticks(size = 12)\n",
    "plt.yticks(size = 12)\n",
    "plt.show()"
   ]
  },
  {
   "cell_type": "markdown",
   "metadata": {},
   "source": [
    "## 贝叶斯分类器分类测试"
   ]
  },
  {
   "cell_type": "code",
   "execution_count": 12,
   "metadata": {},
   "outputs": [],
   "source": [
    "# 按最小错误率原则分类，则根据后验概率判定\n",
    "class bayes_error_2d():\n",
    "    def __init__(self):\n",
    "        # 先验概率\n",
    "        self.p_w1 = 0\n",
    "        self.p_w2 = 0\n",
    "        # 均值\n",
    "        self.u1 = []\n",
    "        self.u2 = []\n",
    "        # 协方差矩阵\n",
    "        self.cov1 = []\n",
    "        self.cov2 = []\n",
    "        # 概率值\n",
    "        self.pro = pd.DataFrame(columns=['cate1','cate2'])\n",
    "\n",
    "    # 训练\n",
    "\n",
    "    def fit(self, x_train, y_train):\n",
    "\n",
    "        # 根据比例确定先验概率:\n",
    "        num = list(y_train.value_counts())\n",
    "        male_num = num[0]\n",
    "        female_num = num[1]\n",
    "\n",
    "        self.p_w1 = male_num / len(y_train)\n",
    "        self.p_w2 = female_num / len(y_train)\n",
    "\n",
    "        cate_df = pd.concat([x_train, y_train], axis=1)\n",
    "        cate_df.columns = ['feature1', 'feature2', 'category']\n",
    "        cate1_df = cate_df.loc[cate_df['category'] == 1]\n",
    "        cate2_df = cate_df.loc[cate_df['category'] == 2]\n",
    "\n",
    "        # 估计概率分布 (计算样本期望 μ 和 协方差 cov)\n",
    "        u1_1 = cate1_df.feature1.mean()\n",
    "        u1_2 = cate1_df.feature2.mean()\n",
    "        self.u1 = np.array([u1_1, u1_2])\n",
    "        u2_1 = cate2_df.feature1.mean()\n",
    "        u2_2 = cate2_df.feature2.mean()\n",
    "        self.u2 = np.array([u2_1, u2_2])\n",
    "\n",
    "        # 协方差矩阵\n",
    "        cov1_1 = cate1_df.feature1.cov(cate1_df.feature1)\n",
    "        cov1_2 = cate1_df.feature1.cov(cate1_df.feature2)\n",
    "        cov1_3 = cate1_df.feature2.cov(cate1_df.feature1)\n",
    "        cov1_4 = cate1_df.feature2.cov(cate1_df.feature2)\n",
    "        self.cov1 = np.array([[cov1_1, cov1_2], [cov1_3, cov1_4]])\n",
    "        cov2_1 = cate2_df.feature1.cov(cate2_df.feature1)\n",
    "        cov2_2 = cate2_df.feature1.cov(cate2_df.feature2)\n",
    "        cov2_3 = cate2_df.feature2.cov(cate2_df.feature1)\n",
    "        cov2_4 = cate2_df.feature2.cov(cate2_df.feature2)\n",
    "        self.cov2 = np.array([[cov2_1, cov2_2], [cov2_3, cov2_4]])\n",
    "\n",
    "    # 预测\n",
    "    def predict(self, x_test):\n",
    "        x_test = x_test.values\n",
    "        y_predict = []\n",
    "        # 判别\n",
    "        for i in range(len(x_test)):\n",
    "            # p_w1:category1先验概率\n",
    "            # p_w2:category2先验概率\n",
    "            x = x_test[i]\n",
    "            g_1 = -0.5*(x-self.u1).dot(np.linalg.inv(self.cov1)).dot(x-self.u1)\n",
    "            -0.5*np.log(abs(self.cov1))+np.log(self.p_w1)\n",
    "            g_2 = -0.5*(x-self.u2).dot(np.linalg.inv(self.cov2)).dot(x-self.u2)\n",
    "            -0.5*np.log(abs(self.cov2))+np.log(self.p_w2)\n",
    "\n",
    "            result = g_1 - g_2\n",
    "            if result > 0:\n",
    "                y_predict.append(1)\n",
    "            else:\n",
    "                y_predict.append(2)\n",
    "            self.pro.loc[i] = [g_1,g_2]\n",
    "        return y_predict\n",
    "\n",
    "    # predict_proba()方法返回一个数组，其中每一行是一个样本，而每一列则是一个类别，每一条数据包含给定实例属于该给定类别的概率\n",
    "\n",
    "    def predict_proba(self, x_test):\n",
    "        return self.pro.values"
   ]
  },
  {
   "cell_type": "code",
   "execution_count": 13,
   "metadata": {},
   "outputs": [],
   "source": [
    "# 主成分数据\n",
    "X = data.iloc[:,0:2] # 特征\n",
    "Y = data.iloc[:,2] # 标签"
   ]
  },
  {
   "cell_type": "code",
   "execution_count": 14,
   "metadata": {},
   "outputs": [],
   "source": [
    "from sklearn.model_selection import KFold\n",
    "from sklearn.metrics import accuracy_score\n",
    "from sklearn.metrics import roc_curve, auc\n",
    "k = 10\n",
    "kf = KFold(n_splits=k,shuffle=True)"
   ]
  },
  {
   "cell_type": "code",
   "execution_count": 15,
   "metadata": {},
   "outputs": [
    {
     "name": "stdout",
     "output_type": "stream",
     "text": [
      "bayes_error average:  0.842377495462795\n"
     ]
    }
   ],
   "source": [
    "accuracies = []\n",
    "tprs = []\n",
    "aucs = []\n",
    "mean_fpr = np.linspace(0, 1, 100)\n",
    "i = 0\n",
    "\n",
    "for train_index, test_index in kf.split(data):  # 拆分\n",
    "\n",
    "    x_train, x_test = X.iloc[train_index], X.iloc[test_index]\n",
    "    y_train, y_test = Y.iloc[train_index], Y.iloc[test_index]\n",
    "\n",
    "    model = bayes_error_2d()  # 模型原型 选择\n",
    "    model.fit(x_train, y_train)  # 训练\n",
    "    y_predict = model.predict(x_test)  # 预测\n",
    "\n",
    "    # predict_proba()方法返回一个数组，其中每一行是一个样本，而每一列则是一个类别，每一条数据包含给定实例属于该给定类别的概率\n",
    "    y_probas = model.predict_proba(x_test)\n",
    "    y_scores = y_probas[:, 1]  # score = proba of positive class\n",
    "\n",
    "    fpr, tpr, thersholds = roc_curve(\n",
    "        y_test, y_scores, pos_label=2)  # roc_curve()函数计算不同阈值的TPR和FPR\n",
    "\n",
    "    # interp:插值 把结果添加到tprs列表中\n",
    "    tprs.append(np.interp(mean_fpr, fpr, tpr))\n",
    "    tprs[-1][0] = 0.0\n",
    "    # 计算auc\n",
    "    roc_auc = auc(fpr, tpr)\n",
    "    aucs.append(roc_auc)\n",
    "    \n",
    "    accuracy = accuracy_score(y_pred=y_predict, y_true=y_test)\n",
    "    accuracies.append(accuracy)\n",
    "    i += 1\n",
    "\n",
    "# 平均错误率\n",
    "print('bayes_error average: ', np.mean(accuracies))"
   ]
  },
  {
   "cell_type": "code",
   "execution_count": 16,
   "metadata": {},
   "outputs": [],
   "source": [
    "# 体重身高数据\n",
    "X1 = df.iloc[:,2:4] # 特征\n",
    "Y1 = df.iloc[:,0] # 标签"
   ]
  },
  {
   "cell_type": "code",
   "execution_count": 17,
   "metadata": {},
   "outputs": [],
   "source": [
    "# 身高鞋码数据\n",
    "X2 = df.iloc[:,1:3] # 特征\n",
    "Y2 = df.iloc[:,0] # 标签"
   ]
  },
  {
   "cell_type": "code",
   "execution_count": 18,
   "metadata": {},
   "outputs": [
    {
     "name": "stdout",
     "output_type": "stream",
     "text": [
      "bayes_error average:  0.842377495462795\n"
     ]
    }
   ],
   "source": [
    "accuracies1 = []\n",
    "tprs1 = []\n",
    "aucs1 = []\n",
    "mean_fpr1 = np.linspace(0, 1, 100)\n",
    "i = 0\n",
    "\n",
    "for train_index, test_index in kf.split(df):  # 拆分\n",
    "\n",
    "    x_train, x_test = X1.iloc[train_index], X1.iloc[test_index]\n",
    "    y_train, y_test = Y1.iloc[train_index], Y1.iloc[test_index]\n",
    "\n",
    "    model = bayes_error_2d()  # 模型原型 选择\n",
    "    model.fit(x_train, y_train)  # 训练\n",
    "    y_predict = model.predict(x_test)  # 预测\n",
    "\n",
    "    # predict_proba()方法返回一个数组，其中每一行是一个样本，而每一列则是一个类别，每一条数据包含给定实例属于该给定类别的概率\n",
    "    y_probas = model.predict_proba(x_test)\n",
    "    y_scores = y_probas[:, 1]  # score = proba of positive class\n",
    "\n",
    "    fpr, tpr, thersholds = roc_curve(\n",
    "        y_test, y_scores, pos_label=2)  # roc_curve()函数计算不同阈值的TPR和FPR\n",
    "\n",
    "    # interp:插值 把结果添加到tprs列表中\n",
    "    tprs1.append(np.interp(mean_fpr1, fpr, tpr))\n",
    "    tprs1[-1][0] = 0.0\n",
    "    # 计算auc\n",
    "    roc_auc = auc(fpr, tpr)\n",
    "    aucs1.append(roc_auc)\n",
    "    \n",
    "    accuracy = accuracy_score(y_pred=y_predict, y_true=y_test)\n",
    "    accuracies1.append(accuracy)\n",
    "    i += 1\n",
    "\n",
    "# 平均错误率\n",
    "print('bayes_error average: ', np.mean(accuracies))"
   ]
  },
  {
   "cell_type": "code",
   "execution_count": 19,
   "metadata": {},
   "outputs": [
    {
     "name": "stdout",
     "output_type": "stream",
     "text": [
      "bayes_error average:  0.842377495462795\n"
     ]
    }
   ],
   "source": [
    "accuracies2 = []\n",
    "tprs2 = []\n",
    "aucs2 = []\n",
    "mean_fpr2 = np.linspace(0, 1, 100)\n",
    "i = 0\n",
    "\n",
    "for train_index, test_index in kf.split(df):  # 拆分\n",
    "\n",
    "    x_train, x_test = X2.iloc[train_index], X2.iloc[test_index]\n",
    "    y_train, y_test = Y2.iloc[train_index], Y2.iloc[test_index]\n",
    "\n",
    "    model = bayes_error_2d()  # 模型原型 选择\n",
    "    model.fit(x_train, y_train)  # 训练\n",
    "    y_predict = model.predict(x_test)  # 预测\n",
    "\n",
    "    # predict_proba()方法返回一个数组，其中每一行是一个样本，而每一列则是一个类别，每一条数据包含给定实例属于该给定类别的概率\n",
    "    y_probas = model.predict_proba(x_test)\n",
    "    y_scores = y_probas[:, 1]  # score = proba of positive class\n",
    "\n",
    "    fpr, tpr, thersholds = roc_curve(\n",
    "        y_test, y_scores, pos_label=2)  # roc_curve()函数计算不同阈值的TPR和FPR\n",
    "\n",
    "    # interp:插值 把结果添加到tprs列表中\n",
    "    tprs2.append(np.interp(mean_fpr2, fpr, tpr))\n",
    "    tprs2[-1][0] = 0.0\n",
    "    # 计算auc\n",
    "    roc_auc = auc(fpr, tpr)\n",
    "    aucs2.append(roc_auc)\n",
    "    \n",
    "    accuracy = accuracy_score(y_pred=y_predict, y_true=y_test)\n",
    "    accuracies2.append(accuracy)\n",
    "    i += 1\n",
    "\n",
    "# 平均错误率\n",
    "print('bayes_error average: ', np.mean(accuracies))"
   ]
  },
  {
   "cell_type": "code",
   "execution_count": 20,
   "metadata": {},
   "outputs": [
    {
     "data": {
      "image/png": "[encoded data removed]",
      "text/plain": [
       "<Figure size 864x576 with 1 Axes>"
      ]
     },
     "metadata": {
      "needs_background": "light"
     },
     "output_type": "display_data"
    }
   ],
   "source": [
    "# 绘制ROC曲线对比图\n",
    "plt.figure(figsize=(12, 8))\n",
    "plt.xlim([-0.05, 1.05])  # 设置x、y轴的上下限，以免和边缘重合，更好的观察图像的整体\n",
    "plt.ylim([-0.05, 1.05])\n",
    "\n",
    "\n",
    "plt.plot([0, 1], [0, 1], color='r', lw=2, linestyle='--',\n",
    "         label='Luck fold (AUC Area = {0:.2f})'.format(0.5))  # 绘制对角线\n",
    "\n",
    "mean_tpr = np.mean(tprs, axis=0)\n",
    "mean_tpr[-1] = 1.0\n",
    "mean_auc = auc(mean_fpr, mean_tpr)  # 计算平均AUC值\n",
    "std_auc = np.std(tprs, axis=0)\n",
    "plt.plot(mean_fpr, mean_tpr, color='#74c0fc',\n",
    "         label='pca mean (AUC Area = {0:.2f})'.format(mean_auc), lw=2, alpha=.8)\n",
    "\n",
    "mean_tpr1 = np.mean(tprs1, axis=0)\n",
    "mean_tpr1[-1] = 1.0\n",
    "mean_auc1 = auc(mean_fpr1, mean_tpr1)  # 计算平均AUC值\n",
    "std_auc1 = np.std(tprs1, axis=0)\n",
    "plt.plot(mean_fpr1, mean_tpr1, color='#d9480f',\n",
    "         label='h-s mean (AUC Area = {0:.2f})'.format(mean_auc1), lw=2, alpha=.8)\n",
    "\n",
    "mean_tpr2 = np.mean(tprs2, axis=0)\n",
    "mean_tpr2[-1] = 1.0\n",
    "mean_auc2 = auc(mean_fpr2, mean_tpr2)  # 计算平均AUC值\n",
    "std_auc2 = np.std(tprs2, axis=0)\n",
    "plt.plot(mean_fpr2, mean_tpr2, color='#9c36b5',\n",
    "         label='w-h mean (AUC Area = {0:.2f})'.format(mean_auc2), lw=2, alpha=.8)\n",
    "\n",
    "plt.xlabel('False Positive Rate')\n",
    "plt.ylabel('True Positive Rate')\n",
    "plt.title('ROC Curve')\n",
    "plt.legend(loc=\"lower right\")\n",
    "plt.show()"
   ]
  },
  {
   "cell_type": "markdown",
   "metadata": {},
   "source": [
    "结果分析：\n",
    "\n",
    "比较三种不同特征数据的ROC曲线AUC面积，可以看出特征为w-h(身高和鞋码)的AUC面积最大，说明用身高和鞋码作为分类特征的效果最好。用PCA得到的二维主成分数据效果反而一般。过拟合？"
   ]
  },
  {
   "cell_type": "markdown",
   "metadata": {},
   "source": [
    "## 2. 特征提取 ： 三维->一维"
   ]
  },
  {
   "cell_type": "code",
   "execution_count": 21,
   "metadata": {},
   "outputs": [
    {
     "name": "stdout",
     "output_type": "stream",
     "text": [
      "[[ 0.56989566  0.7941269  -0.21114309]]\n"
     ]
    }
   ],
   "source": [
    "# 自己实现的PCA\n",
    "self_pca_res = self_pca(np.array(df[['height','weight','size']]),1)\n",
    "# PCA库函数\n",
    "pca = PCA(n_components=1)\n",
    "dataX = np.array(df[['height','weight','size']])\n",
    "pca.fit(dataX)\n",
    "pca_res = pca.transform(dataX)"
   ]
  },
  {
   "cell_type": "code",
   "execution_count": 22,
   "metadata": {},
   "outputs": [
    {
     "data": {
      "text/html": [
       "<div>\n",
       "<style scoped>\n",
       "    .dataframe tbody tr th:only-of-type {\n",
       "        vertical-align: middle;\n",
       "    }\n",
       "\n",
       "    .dataframe tbody tr th {\n",
       "        vertical-align: top;\n",
       "    }\n",
       "\n",
       "    .dataframe thead th {\n",
       "        text-align: right;\n",
       "    }\n",
       "</style>\n",
       "<table border=\"1\" class=\"dataframe\">\n",
       "  <thead>\n",
       "    <tr style=\"text-align: right;\">\n",
       "      <th></th>\n",
       "      <th>feature1</th>\n",
       "      <th>category</th>\n",
       "    </tr>\n",
       "  </thead>\n",
       "  <tbody>\n",
       "    <tr>\n",
       "      <th>1</th>\n",
       "      <td>-0.720249</td>\n",
       "      <td>2</td>\n",
       "    </tr>\n",
       "    <tr>\n",
       "      <th>2</th>\n",
       "      <td>-19.628941</td>\n",
       "      <td>2</td>\n",
       "    </tr>\n",
       "    <tr>\n",
       "      <th>3</th>\n",
       "      <td>7.191425</td>\n",
       "      <td>1</td>\n",
       "    </tr>\n",
       "    <tr>\n",
       "      <th>4</th>\n",
       "      <td>13.855607</td>\n",
       "      <td>1</td>\n",
       "    </tr>\n",
       "    <tr>\n",
       "      <th>5</th>\n",
       "      <td>21.152120</td>\n",
       "      <td>1</td>\n",
       "    </tr>\n",
       "  </tbody>\n",
       "</table>\n",
       "</div>"
      ],
      "text/plain": [
       "    feature1  category\n",
       "1  -0.720249         2\n",
       "2 -19.628941         2\n",
       "3   7.191425         1\n",
       "4  13.855607         1\n",
       "5  21.152120         1"
      ]
     },
     "execution_count": 22,
     "metadata": {},
     "output_type": "execute_result"
    }
   ],
   "source": [
    "# 数据合并 ： 加上类别\n",
    "self_data = pd.concat([pd.DataFrame(self_pca_res,index=list(range(1,572,1))), df['gender']], axis=1)\n",
    "self_data.columns = ['feature1','category']\n",
    "\n",
    "data = pd.concat([pd.DataFrame(pca_res,index=list(range(1,572,1))), df['gender']], axis=1)\n",
    "data.columns = ['feature1','category']\n",
    "data.head(5)"
   ]
  },
  {
   "cell_type": "markdown",
   "metadata": {},
   "source": [
    "## Fisher线性分类器测试"
   ]
  },
  {
   "cell_type": "code",
   "execution_count": 23,
   "metadata": {},
   "outputs": [],
   "source": [
    "# Fisher准则分类器\n",
    "class FisherLiner():\n",
    "    def __init__(self):\n",
    "        self.pro = []\n",
    "        self.w_ = []\n",
    "        self.w0 = []\n",
    "\n",
    "    # 训练\n",
    "\n",
    "    def fit(self, x_train, y_train):\n",
    "\n",
    "        cate_df = pd.concat([x_train, y_train], axis=1)\n",
    "        cate_df.columns = ['feature1', 'feature2', 'category']\n",
    "        cate1_df = cate_df.loc[cate_df['category'] == 1]\n",
    "        cate2_df = cate_df.loc[cate_df['category'] == 2]\n",
    "\n",
    "        # 计算各类样本均值\n",
    "        M1 = cate1_df.mean().values[0:2]\n",
    "        M2 = cate2_df.mean().values[0:2]\n",
    "\n",
    "        # 计算 𝑆1和𝑆2 (样本类内离散矩阵)\n",
    "        S1 = np.matrix(np.zeros((2, 2)))\n",
    "        for x in cate1_df.values:\n",
    "            S = np.matrix(x[0:2]-M1).T @ np.matrix(x[0:2]-M1)\n",
    "            S1 = S1+S\n",
    "        S2 = np.matrix(np.zeros((2, 2)))\n",
    "        for x in cate2_df.values:\n",
    "            S = np.matrix(x[0:2]-M2).T @ np.matrix(x[0:2]-M2)\n",
    "            S2 = S2+S\n",
    "\n",
    "        # 计算投影权重矩阵 W_\n",
    "        S_w = S1+S2\n",
    "        S_w_inv = np.linalg.inv(S_w)\n",
    "        self.w_ = S_w_inv @ (M1-M2)\n",
    "        # 计算投影后样本的均值\n",
    "        m1 = self.w_ @ M1\n",
    "        m2 = self.w_ @ M2\n",
    "        \n",
    "        self.w0 = (m1+m2)/2\n",
    "        # 利用先验知识选择分界阈值点W0:\n",
    "#         num = list(cate_df['category'].value_counts())\n",
    "#         male_num = num[0]\n",
    "#         female_num = num[1]\n",
    "#         self.w0 = (male_num*m1+female_num*m2)/(male_num+female_num)  # 根据比例确定\n",
    "\n",
    "        \n",
    "    def predict(self, x_test):\n",
    "        x_test = x_test.values\n",
    "        y_predict = []\n",
    "        # 判别\n",
    "        for i in range(len(x_test)):\n",
    "            x = x_test[i][0]\n",
    "            y = x_test[i][1]\n",
    "        # 投影并与分界值比较\n",
    "#             result = self.w_ @ np.matrix(x).T - self.w0\n",
    "            result = self.w_[(0,0)]*x+self.w_[(0,1)]*y- self.w0\n",
    "            if result > 0:\n",
    "                y_predict.append(1)\n",
    "            else:\n",
    "                y_predict.append(2)\n",
    "        return y_predict"
   ]
  },
  {
   "cell_type": "markdown",
   "metadata": {},
   "source": [
    "## 实验结果比较"
   ]
  },
  {
   "cell_type": "markdown",
   "metadata": {},
   "source": []
  },
  {
   "cell_type": "code",
   "execution_count": null,
   "metadata": {},
   "outputs": [],
   "source": []
  }
 ],
 "metadata": {
  "kernelspec": {
   "display_name": "Python 3",
   "language": "python",
   "name": "python3"
  },
  "language_info": {
   "codemirror_mode": {
    "name": "ipython",
    "version": 3
   },
   "file_extension": ".py",
   "mimetype": "text/x-python",
   "name": "python",
   "nbconvert_exporter": "python",
   "pygments_lexer": "ipython3",
   "version": "3.7.0"
  }
 },
 "nbformat": 4,
 "nbformat_minor": 4
}
