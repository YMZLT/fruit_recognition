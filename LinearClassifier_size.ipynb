{
 "cells": [
  {
   "cell_type": "markdown",
   "metadata": {},
   "source": [
    "# 线性分类器——Fisher线性判别准则"
   ]
  },
  {
   "cell_type": "markdown",
   "metadata": {},
   "source": [
    "基本要求：\n",
    "\n",
    "- 同时采用身高和体重数据作为特征，用Fisher 线性判别方法求分类器，将该分类器应用到训练和测试样本，考察训练和测试错误情况。\n",
    "\n",
    "- 将训练样本和求得的决策边界画到图上，同时把以往用Bayes 方法求得的分类器也画到图上，比较结果的异同。\n",
    "\n",
    "- 选择上述实验的Fisher 线性判别方法，用留一法在训练集上估计错误率，与在测试集上得到的错误率进行比较。\n"
   ]
  },
  {
   "cell_type": "code",
   "execution_count": 2,
   "metadata": {},
   "outputs": [],
   "source": [
    "# 导入基本库\n",
    "import pandas as pd\n",
    "import numpy as np\n",
    "import math\n",
    "import matplotlib.pyplot as plt\n",
    "%matplotlib inline\n",
    "%config InlineBackend.figure_format = 'png'"
   ]
  },
  {
   "cell_type": "markdown",
   "metadata": {},
   "source": [
    "## 数据预处理"
   ]
  },
  {
   "cell_type": "code",
   "execution_count": 3,
   "metadata": {},
   "outputs": [
    {
     "data": {
      "text/html": [
       "<div>\n",
       "<style scoped>\n",
       "    .dataframe tbody tr th:only-of-type {\n",
       "        vertical-align: middle;\n",
       "    }\n",
       "\n",
       "    .dataframe tbody tr th {\n",
       "        vertical-align: top;\n",
       "    }\n",
       "\n",
       "    .dataframe thead th {\n",
       "        text-align: right;\n",
       "    }\n",
       "</style>\n",
       "<table border=\"1\" class=\"dataframe\">\n",
       "  <thead>\n",
       "    <tr style=\"text-align: right;\">\n",
       "      <th></th>\n",
       "      <th>gender</th>\n",
       "      <th>height</th>\n",
       "      <th>weight</th>\n",
       "      <th>size</th>\n",
       "    </tr>\n",
       "    <tr>\n",
       "      <th></th>\n",
       "      <th></th>\n",
       "      <th></th>\n",
       "      <th></th>\n",
       "      <th></th>\n",
       "    </tr>\n",
       "  </thead>\n",
       "  <tbody>\n",
       "    <tr>\n",
       "      <th>1</th>\n",
       "      <td>女</td>\n",
       "      <td>163.0</td>\n",
       "      <td>62.0</td>\n",
       "      <td>36.0</td>\n",
       "    </tr>\n",
       "    <tr>\n",
       "      <th>2</th>\n",
       "      <td>女</td>\n",
       "      <td>158.0</td>\n",
       "      <td>42.0</td>\n",
       "      <td>36.0</td>\n",
       "    </tr>\n",
       "    <tr>\n",
       "      <th>3</th>\n",
       "      <td>男</td>\n",
       "      <td>168.0</td>\n",
       "      <td>67.0</td>\n",
       "      <td>42.0</td>\n",
       "    </tr>\n",
       "    <tr>\n",
       "      <th>4</th>\n",
       "      <td>男</td>\n",
       "      <td>180.0</td>\n",
       "      <td>67.0</td>\n",
       "      <td>41.0</td>\n",
       "    </tr>\n",
       "    <tr>\n",
       "      <th>5</th>\n",
       "      <td>男</td>\n",
       "      <td>180.0</td>\n",
       "      <td>75.0</td>\n",
       "      <td>46.0</td>\n",
       "    </tr>\n",
       "  </tbody>\n",
       "</table>\n",
       "</div>"
      ],
      "text/plain": [
       "  gender  height  weight  size\n",
       "                              \n",
       "1      女   163.0    62.0  36.0\n",
       "2      女   158.0    42.0  36.0\n",
       "3      男   168.0    67.0  42.0\n",
       "4      男   180.0    67.0  41.0\n",
       "5      男   180.0    75.0  46.0"
      ]
     },
     "execution_count": 3,
     "metadata": {},
     "output_type": "execute_result"
    }
   ],
   "source": [
    "colume_names = ['','gender','height','weight','size']\n",
    "df= pd.read_excel('data/gender.xlsx',index_col=0,names=colume_names)\n",
    "df.head(5)"
   ]
  },
  {
   "cell_type": "code",
   "execution_count": 4,
   "metadata": {},
   "outputs": [
    {
     "data": {
      "text/plain": [
       "(571, 4)"
      ]
     },
     "execution_count": 4,
     "metadata": {},
     "output_type": "execute_result"
    }
   ],
   "source": [
    "df.shape"
   ]
  },
  {
   "cell_type": "markdown",
   "metadata": {},
   "source": [
    "这里可以看到数据有4个维度，分别为性别、身高、体重、鞋码，共有571条记录。下面做一些简单的处理："
   ]
  },
  {
   "cell_type": "code",
   "execution_count": 5,
   "metadata": {},
   "outputs": [
    {
     "data": {
      "text/html": [
       "<div>\n",
       "<style scoped>\n",
       "    .dataframe tbody tr th:only-of-type {\n",
       "        vertical-align: middle;\n",
       "    }\n",
       "\n",
       "    .dataframe tbody tr th {\n",
       "        vertical-align: top;\n",
       "    }\n",
       "\n",
       "    .dataframe thead th {\n",
       "        text-align: right;\n",
       "    }\n",
       "</style>\n",
       "<table border=\"1\" class=\"dataframe\">\n",
       "  <thead>\n",
       "    <tr style=\"text-align: right;\">\n",
       "      <th></th>\n",
       "      <th>gender</th>\n",
       "      <th>height</th>\n",
       "      <th>weight</th>\n",
       "      <th>size</th>\n",
       "    </tr>\n",
       "    <tr>\n",
       "      <th></th>\n",
       "      <th></th>\n",
       "      <th></th>\n",
       "      <th></th>\n",
       "      <th></th>\n",
       "    </tr>\n",
       "  </thead>\n",
       "  <tbody>\n",
       "    <tr>\n",
       "      <th>1</th>\n",
       "      <td>female</td>\n",
       "      <td>163.0</td>\n",
       "      <td>62.0</td>\n",
       "      <td>36.0</td>\n",
       "    </tr>\n",
       "    <tr>\n",
       "      <th>2</th>\n",
       "      <td>female</td>\n",
       "      <td>158.0</td>\n",
       "      <td>42.0</td>\n",
       "      <td>36.0</td>\n",
       "    </tr>\n",
       "    <tr>\n",
       "      <th>3</th>\n",
       "      <td>male</td>\n",
       "      <td>168.0</td>\n",
       "      <td>67.0</td>\n",
       "      <td>42.0</td>\n",
       "    </tr>\n",
       "    <tr>\n",
       "      <th>4</th>\n",
       "      <td>male</td>\n",
       "      <td>180.0</td>\n",
       "      <td>67.0</td>\n",
       "      <td>41.0</td>\n",
       "    </tr>\n",
       "    <tr>\n",
       "      <th>5</th>\n",
       "      <td>male</td>\n",
       "      <td>180.0</td>\n",
       "      <td>75.0</td>\n",
       "      <td>46.0</td>\n",
       "    </tr>\n",
       "  </tbody>\n",
       "</table>\n",
       "</div>"
      ],
      "text/plain": [
       "   gender  height  weight  size\n",
       "                               \n",
       "1  female   163.0    62.0  36.0\n",
       "2  female   158.0    42.0  36.0\n",
       "3    male   168.0    67.0  42.0\n",
       "4    male   180.0    67.0  41.0\n",
       "5    male   180.0    75.0  46.0"
      ]
     },
     "execution_count": 5,
     "metadata": {},
     "output_type": "execute_result"
    }
   ],
   "source": [
    "# 性别数据转换\n",
    "df.replace('男','male',inplace=True)\n",
    "df.replace('女','female',inplace=True)\n",
    "df.head(5)"
   ]
  },
  {
   "cell_type": "markdown",
   "metadata": {},
   "source": [
    "## Fisher 线性判别分类器设计"
   ]
  },
  {
   "cell_type": "markdown",
   "metadata": {},
   "source": [
    "### 数据分布可视化"
   ]
  },
  {
   "cell_type": "code",
   "execution_count": 6,
   "metadata": {},
   "outputs": [
    {
     "data": {
      "text/html": [
       "<div>\n",
       "<style scoped>\n",
       "    .dataframe tbody tr th:only-of-type {\n",
       "        vertical-align: middle;\n",
       "    }\n",
       "\n",
       "    .dataframe tbody tr th {\n",
       "        vertical-align: top;\n",
       "    }\n",
       "\n",
       "    .dataframe thead th {\n",
       "        text-align: right;\n",
       "    }\n",
       "</style>\n",
       "<table border=\"1\" class=\"dataframe\">\n",
       "  <thead>\n",
       "    <tr style=\"text-align: right;\">\n",
       "      <th></th>\n",
       "      <th>feature1</th>\n",
       "      <th>feature2</th>\n",
       "      <th>category</th>\n",
       "    </tr>\n",
       "    <tr>\n",
       "      <th></th>\n",
       "      <th></th>\n",
       "      <th></th>\n",
       "      <th></th>\n",
       "    </tr>\n",
       "  </thead>\n",
       "  <tbody>\n",
       "    <tr>\n",
       "      <th>1</th>\n",
       "      <td>163.0</td>\n",
       "      <td>36.0</td>\n",
       "      <td>2</td>\n",
       "    </tr>\n",
       "    <tr>\n",
       "      <th>2</th>\n",
       "      <td>158.0</td>\n",
       "      <td>36.0</td>\n",
       "      <td>2</td>\n",
       "    </tr>\n",
       "    <tr>\n",
       "      <th>3</th>\n",
       "      <td>168.0</td>\n",
       "      <td>42.0</td>\n",
       "      <td>1</td>\n",
       "    </tr>\n",
       "    <tr>\n",
       "      <th>4</th>\n",
       "      <td>180.0</td>\n",
       "      <td>41.0</td>\n",
       "      <td>1</td>\n",
       "    </tr>\n",
       "    <tr>\n",
       "      <th>5</th>\n",
       "      <td>180.0</td>\n",
       "      <td>46.0</td>\n",
       "      <td>1</td>\n",
       "    </tr>\n",
       "  </tbody>\n",
       "</table>\n",
       "</div>"
      ],
      "text/plain": [
       "   feature1  feature2  category\n",
       "                               \n",
       "1     163.0      36.0         2\n",
       "2     158.0      36.0         2\n",
       "3     168.0      42.0         1\n",
       "4     180.0      41.0         1\n",
       "5     180.0      46.0         1"
      ]
     },
     "execution_count": 6,
     "metadata": {},
     "output_type": "execute_result"
    }
   ],
   "source": [
    "# 数据提取\n",
    "data = df[['height','size','gender']].copy()\n",
    "data.columns = ['feature1', 'feature2', 'category']\n",
    "# 性别数据转换\n",
    "data.replace('male',1,inplace=True)\n",
    "data.replace('female',2,inplace=True)\n",
    "data.head(5)"
   ]
  },
  {
   "cell_type": "code",
   "execution_count": 7,
   "metadata": {
    "scrolled": false
   },
   "outputs": [
    {
     "data": {
      "image/png": "[encoded data removed]",
      "text/plain": [
       "<Figure size 800x600 with 1 Axes>"
      ]
     },
     "metadata": {
      "needs_background": "light"
     },
     "output_type": "display_data"
    }
   ],
   "source": [
    "cate1_df = data.loc[data['category']==1]\n",
    "cate2_df = data.loc[data['category']==2]\n",
    "\n",
    "# 二元高斯概率分布图水平面投影\n",
    "plt.figure(figsize=(8,6),dpi=100)\n",
    "plt.scatter(cate1_df.feature1, cate1_df.feature2)\n",
    "plt.scatter(cate2_df.feature1, cate2_df.feature2,color='#ff6b6b')\n",
    "plt.xlabel('Height',fontsize=12)\n",
    "plt.ylabel('size',fontsize=12) \n",
    "plt.title('Distribution',fontsize=12)\n",
    "plt.legend([\"mele\",\"female\"])\n",
    "plt.xticks(size = 12)\n",
    "plt.yticks(size = 12)\n",
    "plt.show()"
   ]
  },
  {
   "cell_type": "markdown",
   "metadata": {},
   "source": [
    "### Fisher准则函数步骤\n",
    "\n",
    "- 计算$M_1$和$M_2$(样本均值)\n",
    "\n",
    "- 计算$S_1和S_2$(样本类内离散矩阵)  $S_i=\\sum(x_k-M_i)(x_k-M_i)^T$\n",
    "\n",
    "- 计算$S_w=S_1+S_2$\n",
    "\n",
    "- 计算$S_w^{-1}(n>d,S_w可逆)$\n",
    "\n",
    "- 计算$w^*=S_w^{-1}(M_1-M_2)$\n",
    "\n",
    "- 计算$m_i=w^{*T}M_i(i=1,2)和w_0$,整理决策规则表达式或采用Bayes决策"
   ]
  },
  {
   "cell_type": "code",
   "execution_count": 8,
   "metadata": {},
   "outputs": [],
   "source": [
    "# 计算各类样本均值\n",
    "M1 = cate1_df.mean().values[0:2]\n",
    "M2 = cate2_df.mean().values[0:2]"
   ]
  },
  {
   "cell_type": "code",
   "execution_count": 9,
   "metadata": {
    "scrolled": false
   },
   "outputs": [],
   "source": [
    "# 计算 𝑆1和𝑆2 (样本类内离散矩阵)\n",
    "\n",
    "S1 = np.matrix(np.zeros((2,2)))\n",
    "for x in cate1_df.values:\n",
    "    S = np.matrix(x[0:2]-M1).T @ np.matrix(x[0:2]-M1)\n",
    "    S1 = S1+S\n",
    "S2 = np.matrix(np.zeros((2,2)))\n",
    "for x in cate2_df.values:\n",
    "    S = np.matrix(x[0:2]-M2).T @ np.matrix(x[0:2]-M2)\n",
    "    S2 = S2+S"
   ]
  },
  {
   "cell_type": "code",
   "execution_count": 10,
   "metadata": {},
   "outputs": [
    {
     "data": {
      "text/plain": [
       "0.00017482231351435048"
      ]
     },
     "execution_count": 10,
     "metadata": {},
     "output_type": "execute_result"
    }
   ],
   "source": [
    "# 计算投影权重矩阵 W_\n",
    "\n",
    "S_w = S1+S2\n",
    "\n",
    "S_w_inv = np.linalg.inv(S_w)\n",
    "\n",
    "w_ = S_w_inv @ (M1-M2)\n",
    "\n",
    "# 计算投影后样本的均值\n",
    "\n",
    "m1 = w_ @ M1\n",
    "m2 = w_ @ M2\n",
    "\n",
    "w_[(0,0)]"
   ]
  },
  {
   "cell_type": "code",
   "execution_count": 11,
   "metadata": {},
   "outputs": [
    {
     "data": {
      "text/plain": [
       "matrix([[0.19850495]])"
      ]
     },
     "execution_count": 11,
     "metadata": {},
     "output_type": "execute_result"
    }
   ],
   "source": [
    "# 利用先验知识选择分界阈值点W0:\n",
    "w0 = (m1+m2)/2\n",
    "w0"
   ]
  },
  {
   "cell_type": "code",
   "execution_count": 12,
   "metadata": {},
   "outputs": [],
   "source": [
    "def g_x(x):\n",
    "    # 投影并与分解值比较\n",
    "    y = w_ @ x - w0\n",
    "    if(y > 0):\n",
    "        print(\"1\")\n",
    "    else:\n",
    "        print(\"2\")"
   ]
  },
  {
   "cell_type": "code",
   "execution_count": 13,
   "metadata": {},
   "outputs": [
    {
     "name": "stdout",
     "output_type": "stream",
     "text": [
      "2\n"
     ]
    }
   ],
   "source": [
    "# 简单测试\n",
    "g_x(np.matrix([170,35]).T)"
   ]
  },
  {
   "cell_type": "markdown",
   "metadata": {},
   "source": [
    "### 分界面可视化"
   ]
  },
  {
   "cell_type": "code",
   "execution_count": 14,
   "metadata": {},
   "outputs": [
    {
     "name": "stdout",
     "output_type": "stream",
     "text": [
      "[[29.40047665  4.1582623 ]\n",
      " [ 4.1582623   2.30211462]] \n",
      " [[27.27968537  2.66097292]\n",
      " [ 2.66097292  1.03503323]]\n"
     ]
    }
   ],
   "source": [
    "# 根据比例确定先验概率:\n",
    "num = list(data['category'].value_counts())\n",
    "male_num = num[0]\n",
    "female_num = num[1]\n",
    "p_w1 = male_num /(num[0]+num[1])\n",
    "p_w2 = female_num / (num[0]+num[1])\n",
    "\n",
    "# 估计概率分布 (计算样本期望 μ 和 协方差 cov)\n",
    "\n",
    "u1_1 = cate1_df.feature1.mean()\n",
    "u1_2 = cate1_df.feature2.mean()\n",
    "u1 = np.array([u1_1, u1_2])\n",
    "u2_1 = cate2_df.feature1.mean()\n",
    "u2_2 = cate2_df.feature2.mean()\n",
    "u2 = np.array([u2_1, u2_2])\n",
    "\n",
    "# 协方差矩阵\n",
    "cov1_1 = cate1_df.feature1.cov(cate1_df.feature1)\n",
    "cov1_2 = cate1_df.feature1.cov(cate1_df.feature2)\n",
    "cov1_3 = cate1_df.feature2.cov(cate1_df.feature1)\n",
    "cov1_4 = cate1_df.feature2.cov(cate1_df.feature2)\n",
    "cov1 = np.array([[cov1_1, cov1_2], [cov1_3, cov1_4]])\n",
    "\n",
    "cov2_1 = cate2_df.feature1.cov(cate2_df.feature1)\n",
    "cov2_2 = cate2_df.feature1.cov(cate2_df.feature2)\n",
    "cov2_3 = cate2_df.feature2.cov(cate2_df.feature1)\n",
    "cov2_4 = cate2_df.feature2.cov(cate2_df.feature2)\n",
    "cov2 = np.array([[cov2_1, cov2_2], [cov2_3, cov2_4]])\n",
    "print(cov1,'\\n',cov2)"
   ]
  },
  {
   "cell_type": "code",
   "execution_count": 15,
   "metadata": {},
   "outputs": [
    {
     "data": {
      "image/png": "[encoded data removed]",
      "text/plain": [
       "<Figure size 800x800 with 1 Axes>"
      ]
     },
     "metadata": {
      "needs_background": "light"
     },
     "output_type": "display_data"
    }
   ],
   "source": [
    "# 可视化类概率分布\n",
    "from scipy import stats\n",
    "\n",
    "x = np.linspace(140, 190, 100)\n",
    "y = np.linspace(30, 50, 100)\n",
    "x, y = np.meshgrid(x, y)\n",
    "pos = np.dstack((x, y))\n",
    "\n",
    "z1 = stats.multivariate_normal.pdf(pos, mean=u1, cov=cov1)\n",
    "z2 = stats.multivariate_normal.pdf(pos, mean=u2, cov=cov2)\n",
    "\n",
    "# 绘制分界线\n",
    "\n",
    "# 3：线性分类器分界面\n",
    "def Linear(x,y):\n",
    "    return w_[(0,0)]*x+w_[(0,1)]*y- w0\n",
    "z5 = Linear(x,y)\n",
    "# 4: 投影\n",
    "# z6 = w_[(0,1)]*x-w_[(0,0)]*y\n",
    "\n",
    "plt.figure(figsize=(8, 8), dpi=100)\n",
    "plt.scatter(cate1_df.feature1, cate1_df.feature2)\n",
    "plt.scatter(cate2_df.feature1, cate2_df.feature2, color='#ff6b6b')\n",
    "\n",
    "plt.contour(x, y, z5,colors=['#ce3b3b'],levels=[0])\n",
    "# plt.contour(x, y, z6,colors=['#5f3dc4'],levels=[0])\n",
    "\n",
    "plt.xlabel('Height')\n",
    "plt.ylabel('size')\n",
    "\n",
    "plt.legend([\"mele\",\"female\"])\n",
    "plt.show()"
   ]
  },
  {
   "cell_type": "markdown",
   "metadata": {},
   "source": [
    "### 封装测试"
   ]
  },
  {
   "cell_type": "code",
   "execution_count": 16,
   "metadata": {},
   "outputs": [],
   "source": [
    "# Fisher准则分类器\n",
    "class FisherLiner():\n",
    "    def __init__(self):\n",
    "        self.pro = []\n",
    "        self.w_ = []\n",
    "        self.w0 = []\n",
    "\n",
    "    # 训练\n",
    "\n",
    "    def fit(self, x_train, y_train):\n",
    "\n",
    "        cate_df = pd.concat([x_train, y_train], axis=1)\n",
    "        cate_df.columns = ['feature1', 'feature2', 'category']\n",
    "        cate1_df = cate_df.loc[cate_df['category'] == 1]\n",
    "        cate2_df = cate_df.loc[cate_df['category'] == 2]\n",
    "\n",
    "        # 计算各类样本均值\n",
    "        M1 = cate1_df.mean().values[0:2]\n",
    "        M2 = cate2_df.mean().values[0:2]\n",
    "\n",
    "        # 计算 𝑆1和𝑆2 (样本类内离散矩阵)\n",
    "        S1 = np.matrix(np.zeros((2, 2)))\n",
    "        for x in cate1_df.values:\n",
    "            S = np.matrix(x[0:2]-M1).T @ np.matrix(x[0:2]-M1)\n",
    "            S1 = S1+S\n",
    "        S2 = np.matrix(np.zeros((2, 2)))\n",
    "        for x in cate2_df.values:\n",
    "            S = np.matrix(x[0:2]-M2).T @ np.matrix(x[0:2]-M2)\n",
    "            S2 = S2+S\n",
    "\n",
    "        # 计算投影权重矩阵 W_\n",
    "        S_w = S1+S2\n",
    "        S_w_inv = np.linalg.inv(S_w)\n",
    "        self.w_ = S_w_inv @ (M1-M2)\n",
    "        # 计算投影后样本的均值\n",
    "        m1 = w_ @ M1\n",
    "        m2 = w_ @ M2\n",
    "        \n",
    "        self.w0 = (m1+m2)/2\n",
    "\n",
    "        \n",
    "    def predict(self, x_test):\n",
    "        x_test = x_test.values\n",
    "        y_predict = []\n",
    "        # 判别\n",
    "        for i in range(len(x_test)):\n",
    "            x = x_test[i][0]\n",
    "            y = x_test[i][1]\n",
    "        # 投影并与分界值比较\n",
    "#             result = self.w_ @ np.matrix(x).T - self.w0\n",
    "            result = self.w_[(0,0)]*x+self.w_[(0,1)]*y- self.w0\n",
    "            if result > 0:\n",
    "                y_predict.append(1)\n",
    "            else:\n",
    "                y_predict.append(2)\n",
    "        return y_predict"
   ]
  },
  {
   "cell_type": "code",
   "execution_count": 17,
   "metadata": {},
   "outputs": [],
   "source": [
    "X = data.iloc[:,0:2] # 特征\n",
    "Y = data.iloc[:,2] # 标签"
   ]
  },
  {
   "cell_type": "code",
   "execution_count": 18,
   "metadata": {},
   "outputs": [
    {
     "name": "stdout",
     "output_type": "stream",
     "text": [
      "x_train: 0.9527145359019265\n"
     ]
    }
   ],
   "source": [
    "from sklearn.metrics import accuracy_score\n",
    "from sklearn import tree\n",
    "\n",
    "accuracies_train = []\n",
    "\n",
    "x_train = X\n",
    "y_train = Y\n",
    "\n",
    "model = FisherLiner()  # 模型原型 选择\n",
    "#     model = tree.DecisionTreeClassifier()  # 模型原型 选择\n",
    "\n",
    "model.fit(x_train,y_train)  # 训练\n",
    "\n",
    "y_predict_train = model.predict(x_train)  # 预测\n",
    "\n",
    "accuracy = accuracy_score(y_pred=y_predict_train, y_true=y_train)\n",
    "accuracies_train.append(accuracy)\n",
    "\n",
    "print('x_train:', np.mean(accuracies_train))"
   ]
  },
  {
   "cell_type": "code",
   "execution_count": 19,
   "metadata": {},
   "outputs": [
    {
     "ename": "NameError",
     "evalue": "name 'accuracies_test' is not defined",
     "output_type": "error",
     "traceback": [
      "\u001b[1;31m---------------------------------------------------------------------------\u001b[0m",
      "\u001b[1;31mNameError\u001b[0m                                 Traceback (most recent call last)",
      "\u001b[1;32m<ipython-input-19-7bb8e2ba155e>\u001b[0m in \u001b[0;36m<module>\u001b[1;34m\u001b[0m\n\u001b[0;32m     15\u001b[0m     \u001b[0maccuracies\u001b[0m\u001b[1;33m.\u001b[0m\u001b[0mappend\u001b[0m\u001b[1;33m(\u001b[0m\u001b[0maccuracy\u001b[0m\u001b[1;33m)\u001b[0m\u001b[1;33m\u001b[0m\u001b[0m\n\u001b[0;32m     16\u001b[0m \u001b[1;33m\u001b[0m\u001b[0m\n\u001b[1;32m---> 17\u001b[1;33m \u001b[0mprint\u001b[0m\u001b[1;33m(\u001b[0m\u001b[1;34m'x_test:'\u001b[0m\u001b[1;33m,\u001b[0m \u001b[0mnp\u001b[0m\u001b[1;33m.\u001b[0m\u001b[0mmean\u001b[0m\u001b[1;33m(\u001b[0m\u001b[0maccuracies_test\u001b[0m\u001b[1;33m)\u001b[0m\u001b[1;33m)\u001b[0m\u001b[1;33m\u001b[0m\u001b[0m\n\u001b[0m",
      "\u001b[1;31mNameError\u001b[0m: name 'accuracies_test' is not defined"
     ]
    }
   ],
   "source": [
    "# 留一法估计错误率\n",
    "from sklearn.metrics import accuracy_score\n",
    "accuracies = []\n",
    "for i in range(1,df.shape[0]):\n",
    "\n",
    "    x_train, x_test = X.drop([i]), X.iloc[[i]]\n",
    "    y_train, y_test = Y.drop([i]), Y.iloc[[i]]\n",
    "\n",
    "    model = FisherLiner()  # 模型原型 选择\n",
    "    model.fit(x_train.copy(), y_train.copy())  # 训练\n",
    "\n",
    "    # 预测测试样本\n",
    "    y_predict_test = model.predict(x_test)  # 预测\n",
    "    accuracy = accuracy_score(y_pred=y_predict_test, y_true=y_test)\n",
    "    accuracies.append(accuracy)\n",
    "\n",
    "print('x_test:', np.mean(accuracies_test))"
   ]
  },
  {
   "cell_type": "code",
   "execution_count": null,
   "metadata": {},
   "outputs": [],
   "source": []
  }
 ],
 "metadata": {
  "kernelspec": {
   "display_name": "Python 3.7.0 64-bit",
   "language": "python",
   "name": "python37064bit748da55d869147b2a214ff849697ccbf"
  },
  "language_info": {
   "codemirror_mode": {
    "name": "ipython",
    "version": 3
   },
   "file_extension": ".py",
   "mimetype": "text/x-python",
   "name": "python",
   "nbconvert_exporter": "python",
   "pygments_lexer": "ipython3",
   "version": "3.7.0"
  }
 },
 "nbformat": 4,
 "nbformat_minor": 4
}
