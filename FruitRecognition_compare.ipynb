{
 "cells": [
  {
   "cell_type": "markdown",
   "id": "collect-government",
   "metadata": {},
   "source": [
    "# 多分类水果分类器"
   ]
  },
  {
   "cell_type": "code",
   "execution_count": 22,
   "id": "israeli-fundamental",
   "metadata": {
    "ExecuteTime": {
     "end_time": "2021-03-09T13:03:53.006590Z",
     "start_time": "2021-03-09T13:03:52.992993Z"
    }
   },
   "outputs": [],
   "source": [
    "import numpy as np\n",
    "import pandas as pd\n",
    "import cv2\n",
    "\n",
    "import matplotlib.pyplot as plt\n",
    "import matplotlib.patches as patches\n",
    "%matplotlib inline\n",
    "\n",
    "from sklearn.decomposition import PCA\n",
    "from sklearn.preprocessing import StandardScaler\n",
    "from sklearn.metrics import accuracy_score\n",
    "\n",
    "import glob\n",
    "import os\n",
    "import warnings\n",
    "warnings.filterwarnings('ignore')"
   ]
  },
  {
   "cell_type": "markdown",
   "id": "working-proposal",
   "metadata": {},
   "source": [
    "## 导入图片数据"
   ]
  },
  {
   "cell_type": "code",
   "execution_count": 2,
   "id": "packed-birmingham",
   "metadata": {
    "ExecuteTime": {
     "end_time": "2021-03-09T12:59:27.883901Z",
     "start_time": "2021-03-09T12:59:26.921639Z"
    }
   },
   "outputs": [],
   "source": [
    "# 读入部分图片数据以及标签\n",
    "fruit_images = [] \n",
    "labels = [] \n",
    "fruit_names=['Apple Braeburn','Apple Crimson Snow','Apple Red 2','Peach']\n",
    "path_head=\"Training200\\\\\"\n",
    "for fruit_name in fruit_names:\n",
    "    fruit_dir_path = path_head+fruit_name\n",
    "    fruit_label = fruit_dir_path.split(\"\\\\\")[-1]\n",
    "    for image_path in glob.glob(os.path.join(fruit_dir_path, \"*.jpg\")):\n",
    "        image = cv2.imread(image_path, cv2.IMREAD_COLOR)\n",
    "        image = cv2.cvtColor(image, cv2.COLOR_RGB2BGR)\n",
    "        fruit_images.append(image)\n",
    "        labels.append(fruit_label)\n",
    "fruit_images = np.array(fruit_images)\n",
    "labels = np.array(labels)"
   ]
  },
  {
   "cell_type": "code",
   "execution_count": 3,
   "id": "patent-scholar",
   "metadata": {
    "ExecuteTime": {
     "end_time": "2021-03-09T12:59:28.684790Z",
     "start_time": "2021-03-09T12:59:28.676789Z"
    }
   },
   "outputs": [
    {
     "data": {
      "text/plain": [
       "{0: 'Apple Braeburn', 1: 'Apple Crimson Snow', 2: 'Apple Red 2', 3: 'Peach'}"
      ]
     },
     "execution_count": 3,
     "metadata": {},
     "output_type": "execute_result"
    }
   ],
   "source": [
    "# 提取标签数据并编号\n",
    "label_to_id_dict = {v:i for i,v in enumerate(np.unique(labels))}\n",
    "id_to_label_dict = {v:k for k,v in label_to_id_dict.items()}\n",
    "id_to_label_dict"
   ]
  },
  {
   "cell_type": "code",
   "execution_count": 4,
   "id": "norwegian-migration",
   "metadata": {
    "ExecuteTime": {
     "end_time": "2021-03-09T12:59:29.569822Z",
     "start_time": "2021-03-09T12:59:29.565825Z"
    }
   },
   "outputs": [],
   "source": [
    "# 标签编号\n",
    "label_ids = np.array([label_to_id_dict[x] for x in labels])"
   ]
  },
  {
   "cell_type": "markdown",
   "id": "instant-turkey",
   "metadata": {},
   "source": [
    "## PCA降维"
   ]
  },
  {
   "cell_type": "code",
   "execution_count": 5,
   "id": "excited-dressing",
   "metadata": {
    "ExecuteTime": {
     "end_time": "2021-03-09T12:59:31.613260Z",
     "start_time": "2021-03-09T12:59:30.837155Z"
    }
   },
   "outputs": [],
   "source": [
    "# 生成图片向量\n",
    "scaler = StandardScaler() # 数据归一化\n",
    "images_scaled = scaler.fit_transform([i.flatten() for i in fruit_images])"
   ]
  },
  {
   "cell_type": "code",
   "execution_count": 6,
   "id": "shared-alabama",
   "metadata": {
    "ExecuteTime": {
     "end_time": "2021-03-09T12:59:33.179897Z",
     "start_time": "2021-03-09T12:59:31.613260Z"
    }
   },
   "outputs": [],
   "source": [
    "# PCA降维\n",
    "pca = PCA(n_components=10)\n",
    "pca_result = pca.fit_transform(images_scaled)"
   ]
  },
  {
   "cell_type": "code",
   "execution_count": 7,
   "id": "expensive-paragraph",
   "metadata": {
    "ExecuteTime": {
     "end_time": "2021-03-09T12:59:33.215014Z",
     "start_time": "2021-03-09T12:59:33.179897Z"
    }
   },
   "outputs": [
    {
     "data": {
      "text/html": [
       "<div>\n",
       "<style scoped>\n",
       "    .dataframe tbody tr th:only-of-type {\n",
       "        vertical-align: middle;\n",
       "    }\n",
       "\n",
       "    .dataframe tbody tr th {\n",
       "        vertical-align: top;\n",
       "    }\n",
       "\n",
       "    .dataframe thead th {\n",
       "        text-align: right;\n",
       "    }\n",
       "</style>\n",
       "<table border=\"1\" class=\"dataframe\">\n",
       "  <thead>\n",
       "    <tr style=\"text-align: right;\">\n",
       "      <th></th>\n",
       "      <th>0</th>\n",
       "      <th>1</th>\n",
       "      <th>2</th>\n",
       "      <th>3</th>\n",
       "      <th>4</th>\n",
       "      <th>5</th>\n",
       "      <th>6</th>\n",
       "      <th>7</th>\n",
       "      <th>8</th>\n",
       "      <th>9</th>\n",
       "      <th>label</th>\n",
       "    </tr>\n",
       "  </thead>\n",
       "  <tbody>\n",
       "    <tr>\n",
       "      <th>0</th>\n",
       "      <td>-47.228477</td>\n",
       "      <td>-100.133847</td>\n",
       "      <td>45.148065</td>\n",
       "      <td>10.928912</td>\n",
       "      <td>14.380786</td>\n",
       "      <td>10.081558</td>\n",
       "      <td>20.413679</td>\n",
       "      <td>11.357985</td>\n",
       "      <td>-18.291389</td>\n",
       "      <td>7.678771</td>\n",
       "      <td>0</td>\n",
       "    </tr>\n",
       "    <tr>\n",
       "      <th>1</th>\n",
       "      <td>24.999174</td>\n",
       "      <td>-110.263826</td>\n",
       "      <td>31.297644</td>\n",
       "      <td>-23.992220</td>\n",
       "      <td>-3.127587</td>\n",
       "      <td>3.644606</td>\n",
       "      <td>-5.598442</td>\n",
       "      <td>-17.710118</td>\n",
       "      <td>1.731891</td>\n",
       "      <td>-6.591079</td>\n",
       "      <td>0</td>\n",
       "    </tr>\n",
       "    <tr>\n",
       "      <th>2</th>\n",
       "      <td>28.223779</td>\n",
       "      <td>-114.928200</td>\n",
       "      <td>24.321860</td>\n",
       "      <td>-36.092859</td>\n",
       "      <td>-1.928604</td>\n",
       "      <td>2.943227</td>\n",
       "      <td>-5.926898</td>\n",
       "      <td>-6.996024</td>\n",
       "      <td>2.967388</td>\n",
       "      <td>-6.046758</td>\n",
       "      <td>0</td>\n",
       "    </tr>\n",
       "    <tr>\n",
       "      <th>3</th>\n",
       "      <td>29.286895</td>\n",
       "      <td>-118.130954</td>\n",
       "      <td>22.334259</td>\n",
       "      <td>-35.262925</td>\n",
       "      <td>-0.415461</td>\n",
       "      <td>5.498085</td>\n",
       "      <td>-7.728139</td>\n",
       "      <td>-3.903870</td>\n",
       "      <td>5.198932</td>\n",
       "      <td>-2.798795</td>\n",
       "      <td>0</td>\n",
       "    </tr>\n",
       "    <tr>\n",
       "      <th>4</th>\n",
       "      <td>30.144339</td>\n",
       "      <td>-118.917120</td>\n",
       "      <td>22.583146</td>\n",
       "      <td>-33.910370</td>\n",
       "      <td>0.335816</td>\n",
       "      <td>6.315519</td>\n",
       "      <td>-8.507330</td>\n",
       "      <td>-3.554027</td>\n",
       "      <td>6.083558</td>\n",
       "      <td>-2.292688</td>\n",
       "      <td>0</td>\n",
       "    </tr>\n",
       "  </tbody>\n",
       "</table>\n",
       "</div>"
      ],
      "text/plain": [
       "           0           1          2          3          4          5  \\\n",
       "0 -47.228477 -100.133847  45.148065  10.928912  14.380786  10.081558   \n",
       "1  24.999174 -110.263826  31.297644 -23.992220  -3.127587   3.644606   \n",
       "2  28.223779 -114.928200  24.321860 -36.092859  -1.928604   2.943227   \n",
       "3  29.286895 -118.130954  22.334259 -35.262925  -0.415461   5.498085   \n",
       "4  30.144339 -118.917120  22.583146 -33.910370   0.335816   6.315519   \n",
       "\n",
       "           6          7          8         9  label  \n",
       "0  20.413679  11.357985 -18.291389  7.678771      0  \n",
       "1  -5.598442 -17.710118   1.731891 -6.591079      0  \n",
       "2  -5.926898  -6.996024   2.967388 -6.046758      0  \n",
       "3  -7.728139  -3.903870   5.198932 -2.798795      0  \n",
       "4  -8.507330  -3.554027   6.083558 -2.292688      0  "
      ]
     },
     "execution_count": 7,
     "metadata": {},
     "output_type": "execute_result"
    }
   ],
   "source": [
    "data = pd.concat([pd.DataFrame(pca_result), pd.DataFrame(label_ids,columns=['label'])], axis=1)\n",
    "data.head(5)"
   ]
  },
  {
   "cell_type": "code",
   "execution_count": 8,
   "id": "imperial-balloon",
   "metadata": {
    "ExecuteTime": {
     "end_time": "2021-03-09T12:59:33.223023Z",
     "start_time": "2021-03-09T12:59:33.215014Z"
    }
   },
   "outputs": [],
   "source": [
    "X = data.loc[:, data.columns != 'label']\n",
    "Y = data.loc[:,'label']"
   ]
  },
  {
   "cell_type": "markdown",
   "id": "incorporated-grass",
   "metadata": {},
   "source": [
    "## 模型训练"
   ]
  },
  {
   "cell_type": "code",
   "execution_count": 33,
   "id": "technological-worker",
   "metadata": {
    "ExecuteTime": {
     "end_time": "2021-03-09T13:07:39.581873Z",
     "start_time": "2021-03-09T13:07:39.564970Z"
    }
   },
   "outputs": [
    {
     "data": {
      "text/plain": [
       "SVC()"
      ]
     },
     "execution_count": 33,
     "metadata": {},
     "output_type": "execute_result"
    }
   ],
   "source": [
    "from sklearn.svm import SVC\n",
    "svm_default = SVC()\n",
    "svm_default.fit(X, Y) "
   ]
  },
  {
   "cell_type": "code",
   "execution_count": 10,
   "id": "gentle-brick",
   "metadata": {
    "ExecuteTime": {
     "end_time": "2021-03-09T12:59:40.416890Z",
     "start_time": "2021-03-09T12:59:40.348851Z"
    },
    "scrolled": true
   },
   "outputs": [
    {
     "data": {
      "text/plain": [
       "SVC(C=1, gamma=0.0001, probability=True)"
      ]
     },
     "execution_count": 10,
     "metadata": {},
     "output_type": "execute_result"
    }
   ],
   "source": [
    "svm_clf = SVC(kernel='rbf',C=1, gamma=0.0001,probability=True)\n",
    "svm_clf.fit(X, Y) "
   ]
  },
  {
   "cell_type": "code",
   "execution_count": 42,
   "id": "general-intensity",
   "metadata": {
    "ExecuteTime": {
     "end_time": "2021-03-09T13:11:13.725278Z",
     "start_time": "2021-03-09T13:11:13.708856Z"
    }
   },
   "outputs": [
    {
     "data": {
      "text/plain": [
       "KNeighborsClassifier(n_neighbors=4)"
      ]
     },
     "execution_count": 42,
     "metadata": {},
     "output_type": "execute_result"
    }
   ],
   "source": [
    "from sklearn.neighbors import KNeighborsClassifier     #K近邻#\n",
    "from sklearn.neighbors import KNeighborsRegressor\n",
    "knn = KNeighborsClassifier(n_neighbors=4)\n",
    "knn.fit(X, Y)"
   ]
  },
  {
   "cell_type": "code",
   "execution_count": 14,
   "id": "ancient-separation",
   "metadata": {
    "ExecuteTime": {
     "end_time": "2021-03-09T13:01:13.564552Z",
     "start_time": "2021-03-09T13:01:13.531374Z"
    }
   },
   "outputs": [
    {
     "data": {
      "text/plain": [
       "DecisionTreeClassifier()"
      ]
     },
     "execution_count": 14,
     "metadata": {},
     "output_type": "execute_result"
    }
   ],
   "source": [
    "from sklearn import tree                              #决策树分类器#\n",
    "tree = tree.DecisionTreeClassifier(criterion='gini')\n",
    "tree.fit(X, Y)"
   ]
  },
  {
   "cell_type": "code",
   "execution_count": 16,
   "id": "hourly-macedonia",
   "metadata": {
    "ExecuteTime": {
     "end_time": "2021-03-09T13:02:10.850254Z",
     "start_time": "2021-03-09T13:02:10.401175Z"
    }
   },
   "outputs": [
    {
     "data": {
      "text/plain": [
       "RandomForestClassifier()"
      ]
     },
     "execution_count": 16,
     "metadata": {},
     "output_type": "execute_result"
    }
   ],
   "source": [
    "from sklearn.ensemble import RandomForestClassifier  #随机森林#\n",
    "from sklearn.ensemble import RandomForestRegressor\n",
    "RandomForest = RandomForestClassifier()\n",
    "RandomForest.fit(X, Y)"
   ]
  },
  {
   "cell_type": "markdown",
   "id": "incorporated-thomson",
   "metadata": {},
   "source": [
    "## 在测试数据集上测试"
   ]
  },
  {
   "cell_type": "code",
   "execution_count": 45,
   "id": "signed-inquiry",
   "metadata": {
    "ExecuteTime": {
     "end_time": "2021-03-09T13:23:31.689347Z",
     "start_time": "2021-03-09T13:23:31.673429Z"
    }
   },
   "outputs": [],
   "source": [
    "import os, random\n",
    "path_head=\"Test\"\n",
    "def TestWorkFlow(model,picknumber=50):\n",
    "    # 1 获取测试集\n",
    "    validation_fruit_images = []\n",
    "    validation_labels = [] \n",
    "    for fruit_name in fruit_names:\n",
    "        fruit_dir_path = \"{0}/{1}/\".format(path_head,fruit_name)\n",
    "        pathDir = os.listdir(fruit_dir_path)    #取图片的原始路径\n",
    "        filenumber=len(pathDir) # 源文件夹图片数量\n",
    "        sample = random.sample(pathDir, picknumber)  #随机选取picknumber数量的样本图片\n",
    "        for name in sample:\n",
    "            image_path = \"{0}{1}\".format(fruit_dir_path,name)\n",
    "            image = cv2.imread(image_path, cv2.IMREAD_COLOR)\n",
    "            image = cv2.cvtColor(image, cv2.COLOR_RGB2BGR)\n",
    "            validation_fruit_images.append(image)\n",
    "            validation_labels.append(fruit_name)\n",
    "    validation_fruit_images = np.array(validation_fruit_images)\n",
    "    validation_labels = np.array(validation_labels)\n",
    "    validation_label_ids = np.array([label_to_id_dict[x] for x in validation_labels])\n",
    "    validation_images_scaled = scaler.transform([i.flatten() for i in validation_fruit_images])\n",
    "    validation_pca_result = pca.transform(validation_images_scaled)\n",
    "    test_predictions = model.predict(validation_pca_result)\n",
    "    precision = accuracy_score(test_predictions, validation_label_ids)\n",
    "    return precision\n",
    "def Model_test(model):\n",
    "    res = []\n",
    "    x = range(0,10,1)\n",
    "    # 10轮训练取平均\n",
    "    for i in x:\n",
    "        y = TestWorkFlow(model)\n",
    "        res.append(y)\n",
    "    return np.mean(res)"
   ]
  },
  {
   "cell_type": "code",
   "execution_count": 46,
   "id": "dynamic-pittsburgh",
   "metadata": {
    "ExecuteTime": {
     "end_time": "2021-03-09T13:23:53.121022Z",
     "start_time": "2021-03-09T13:23:49.434876Z"
    }
   },
   "outputs": [
    {
     "data": {
      "text/plain": [
       "0.8870000000000001"
      ]
     },
     "execution_count": 46,
     "metadata": {},
     "output_type": "execute_result"
    }
   ],
   "source": [
    "# 默认参数的SVM\n",
    "Model_test(svm_default)"
   ]
  },
  {
   "cell_type": "code",
   "execution_count": 47,
   "id": "wrapped-sewing",
   "metadata": {
    "ExecuteTime": {
     "end_time": "2021-03-09T13:24:58.293352Z",
     "start_time": "2021-03-09T13:24:55.206315Z"
    },
    "scrolled": true
   },
   "outputs": [
    {
     "data": {
      "text/plain": [
       "0.9164999999999999"
      ]
     },
     "execution_count": 47,
     "metadata": {},
     "output_type": "execute_result"
    }
   ],
   "source": [
    "# 调参后的SVM\n",
    "Model_test(svm_clf)"
   ]
  },
  {
   "cell_type": "code",
   "execution_count": 48,
   "id": "representative-thong",
   "metadata": {
    "ExecuteTime": {
     "end_time": "2021-03-09T13:25:01.599248Z",
     "start_time": "2021-03-09T13:24:58.294882Z"
    }
   },
   "outputs": [
    {
     "data": {
      "text/plain": [
       "0.899"
      ]
     },
     "execution_count": 48,
     "metadata": {},
     "output_type": "execute_result"
    }
   ],
   "source": [
    "# KNN\n",
    "Model_test(knn)"
   ]
  },
  {
   "cell_type": "code",
   "execution_count": 49,
   "id": "pending-filter",
   "metadata": {
    "ExecuteTime": {
     "end_time": "2021-03-09T13:25:22.121581Z",
     "start_time": "2021-03-09T13:25:18.996643Z"
    }
   },
   "outputs": [
    {
     "data": {
      "text/plain": [
       "0.8085000000000001"
      ]
     },
     "execution_count": 49,
     "metadata": {},
     "output_type": "execute_result"
    }
   ],
   "source": [
    "# 决策树\n",
    "Model_test(tree)"
   ]
  },
  {
   "cell_type": "code",
   "execution_count": 50,
   "id": "answering-giant",
   "metadata": {
    "ExecuteTime": {
     "end_time": "2021-03-09T13:25:35.499006Z",
     "start_time": "2021-03-09T13:25:32.057256Z"
    }
   },
   "outputs": [
    {
     "data": {
      "text/plain": [
       "0.858"
      ]
     },
     "execution_count": 50,
     "metadata": {},
     "output_type": "execute_result"
    }
   ],
   "source": [
    "# 随机森林\n",
    "Model_test(RandomForest)"
   ]
  }
 ],
 "metadata": {
  "kernelspec": {
   "display_name": "Python 3",
   "language": "python",
   "name": "python3"
  },
  "language_info": {
   "codemirror_mode": {
    "name": "ipython",
    "version": 3
   },
   "file_extension": ".py",
   "mimetype": "text/x-python",
   "name": "python",
   "nbconvert_exporter": "python",
   "pygments_lexer": "ipython3",
   "version": "3.7.0"
  }
 },
 "nbformat": 4,
 "nbformat_minor": 5
}
