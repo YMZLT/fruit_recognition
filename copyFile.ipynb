{
 "cells": [
  {
   "cell_type": "markdown",
   "id": "european-precipitation",
   "metadata": {},
   "source": [
    "# 制作训练集和验证集、测试集。"
   ]
  },
  {
   "cell_type": "code",
   "execution_count": 1,
   "id": "invalid-image",
   "metadata": {
    "ExecuteTime": {
     "end_time": "2021-03-09T10:59:17.787415Z",
     "start_time": "2021-03-09T10:59:17.769235Z"
    }
   },
   "outputs": [],
   "source": [
    "import os, random, shutil,glob\n",
    "\n",
    "def copyFile(fileDir,tarDir,picknumber):\n",
    "        pathDir = os.listdir(fileDir)    #取图片的原始路径\n",
    "        filenumber=len(pathDir) # 源文件夹图片数量\n",
    "        sample = random.sample(pathDir, picknumber)  #随机选取picknumber数量的样本图片\n",
    "        # 判断结果\n",
    "        if not os.path.exists(tarDir):\n",
    "            # 如果不存在则创建目录\n",
    "            os.makedirs(tarDir) \n",
    "        for name in sample:\n",
    "                shutil.copyfile(fileDir+name, tarDir+name)\n",
    "        return"
   ]
  },
  {
   "cell_type": "code",
   "execution_count": 2,
   "id": "premium-stomach",
   "metadata": {
    "ExecuteTime": {
     "end_time": "2021-03-09T10:59:18.573343Z",
     "start_time": "2021-03-09T10:59:18.112937Z"
    }
   },
   "outputs": [],
   "source": [
    "# 部分数据\n",
    "fruit_names=['Apple Braeburn','Apple Crimson Snow','Apple Red 2','Peach','Pineapple']\n",
    "file = 'Test'\n",
    "picknumber = 50\n",
    "for fruit_name in fruit_names:\n",
    "    fileDir = \"{0}/{1}/\".format(file,fruit_name)   #源图片文件夹路径\n",
    "    tarDir = \"{0}{2}/{1}/\".format(file,fruit_name,picknumber)    #移动到新的文件夹路径\n",
    "    copyFile(fileDir,tarDir,picknumber)"
   ]
  },
  {
   "cell_type": "code",
   "execution_count": 24,
   "id": "burning-prompt",
   "metadata": {
    "ExecuteTime": {
     "end_time": "2021-03-04T05:29:17.813530Z",
     "start_time": "2021-03-04T05:29:17.529323Z"
    },
    "scrolled": true
   },
   "outputs": [],
   "source": [
    "# 全部数据\n",
    "fruit_names=[]\n",
    "file = 'Test'\n",
    "picknumber = 1\n",
    "for fruit_dir_path in glob.glob(\"{0}/*\".format(file)):\n",
    "    fruit_label = fruit_dir_path.split(\"\\\\\")[-1]\n",
    "    fruit_names.append(fruit_label)\n",
    "for fruit_name in fruit_names:\n",
    "    fileDir = \"{0}/{1}/\".format(file,fruit_name)   #源图片文件夹路径\n",
    "    tarDir = \"{0}{2}/{1}/\".format(file,fruit_name,picknumber)    #移动到新的文件夹路径\n",
    "    copyFile(fileDir,tarDir,picknumber)"
   ]
  },
  {
   "cell_type": "code",
   "execution_count": null,
   "id": "stable-parliament",
   "metadata": {},
   "outputs": [],
   "source": []
  }
 ],
 "metadata": {
  "kernelspec": {
   "display_name": "Python 3",
   "language": "python",
   "name": "python3"
  },
  "language_info": {
   "codemirror_mode": {
    "name": "ipython",
    "version": 3
   },
   "file_extension": ".py",
   "mimetype": "text/x-python",
   "name": "python",
   "nbconvert_exporter": "python",
   "pygments_lexer": "ipython3",
   "version": "3.7.0"
  }
 },
 "nbformat": 4,
 "nbformat_minor": 5
}
